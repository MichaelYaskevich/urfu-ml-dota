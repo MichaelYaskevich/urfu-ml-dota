{
  "cells": [
    {
      "cell_type": "code",
      "execution_count": 1,
      "metadata": {
        "id": "G-pUl0V6Eww8"
      },
      "outputs": [],
      "source": [
        "import json\n",
        "import os\n",
        "from glob import glob\n",
        "\n",
        "import numpy as np\n",
        "import pandas as pd\n",
        "from sklearn.linear_model import LogisticRegression\n",
        "from sklearn.model_selection import cross_val_score"
      ]
    },
    {
      "cell_type": "markdown",
      "source": [
        "## Подключение google drive"
      ],
      "metadata": {
        "id": "Os3MF2DjsY1R"
      }
    },
    {
      "cell_type": "code",
      "source": [
        "from google.colab import drive\n",
        "drive.mount('/content/myDrive')"
      ],
      "metadata": {
        "colab": {
          "base_uri": "https://localhost:8080/"
        },
        "id": "RteJuSKDFHTj",
        "outputId": "07563c76-f160-4cbc-fb7c-0495512539b7"
      },
      "execution_count": 2,
      "outputs": [
        {
          "output_type": "stream",
          "name": "stdout",
          "text": [
            "Drive already mounted at /content/myDrive; to attempt to forcibly remount, call drive.mount(\"/content/myDrive\", force_remount=True).\n"
          ]
        }
      ]
    },
    {
      "cell_type": "code",
      "source": [
        "os.chdir('myDrive/MyDrive/ufru')"
      ],
      "metadata": {
        "id": "lpndEoQzHxxU"
      },
      "execution_count": 3,
      "outputs": []
    },
    {
      "cell_type": "code",
      "source": [
        "!ls"
      ],
      "metadata": {
        "colab": {
          "base_uri": "https://localhost:8080/"
        },
        "id": "WW0X_ehqGkbw",
        "outputId": "0fdb46ac-ab77-4571-d0a6-9703128516bc"
      },
      "execution_count": 4,
      "outputs": [
        {
          "output_type": "stream",
          "name": "stdout",
          "text": [
            "public_data\t simple_answer.csv  train_data\n",
            "public_data.zip  train_anwers.csv   train_data.zip\n"
          ]
        }
      ]
    },
    {
      "cell_type": "markdown",
      "source": [
        "## Разархивирование данных"
      ],
      "metadata": {
        "id": "RnWDp7OlseeC"
      }
    },
    {
      "cell_type": "code",
      "source": [
        "!unzip public_data.zip > public_data_std_out"
      ],
      "metadata": {
        "id": "IjEUZwGyIWaV"
      },
      "execution_count": 21,
      "outputs": []
    },
    {
      "cell_type": "code",
      "source": [
        "!unzip train_data.zip > train_data_std_out"
      ],
      "metadata": {
        "id": "2teMW_7dIZFp"
      },
      "execution_count": 22,
      "outputs": []
    },
    {
      "cell_type": "code",
      "source": [
        "!rm public_data_std_out\n",
        "!rm train_data_std_out"
      ],
      "metadata": {
        "id": "EDItC4gosSCv"
      },
      "execution_count": 23,
      "outputs": []
    },
    {
      "cell_type": "markdown",
      "source": [
        "## Загрузка json"
      ],
      "metadata": {
        "id": "1g0h4VuUsvgv"
      }
    },
    {
      "cell_type": "code",
      "execution_count": 5,
      "metadata": {
        "id": "7o7vIaXfEwxA",
        "outputId": "a9420f03-54da-4f5e-9b13-84fecdbb7b07",
        "colab": {
          "base_uri": "https://localhost:8080/",
          "height": 289
        }
      },
      "outputs": [
        {
          "output_type": "stream",
          "name": "stdout",
          "text": [
            "name      int64\n",
            "target     bool\n",
            "dtype: object\n"
          ]
        },
        {
          "output_type": "execute_result",
          "data": {
            "text/plain": [
              "      target\n",
              "name        \n",
              "1       True\n",
              "7      False\n",
              "16     False\n",
              "24     False\n",
              "29      True"
            ],
            "text/html": [
              "\n",
              "  <div id=\"df-1fdb9b80-8e0a-4a45-b85c-596c7bcefddc\">\n",
              "    <div class=\"colab-df-container\">\n",
              "      <div>\n",
              "<style scoped>\n",
              "    .dataframe tbody tr th:only-of-type {\n",
              "        vertical-align: middle;\n",
              "    }\n",
              "\n",
              "    .dataframe tbody tr th {\n",
              "        vertical-align: top;\n",
              "    }\n",
              "\n",
              "    .dataframe thead th {\n",
              "        text-align: right;\n",
              "    }\n",
              "</style>\n",
              "<table border=\"1\" class=\"dataframe\">\n",
              "  <thead>\n",
              "    <tr style=\"text-align: right;\">\n",
              "      <th></th>\n",
              "      <th>target</th>\n",
              "    </tr>\n",
              "    <tr>\n",
              "      <th>name</th>\n",
              "      <th></th>\n",
              "    </tr>\n",
              "  </thead>\n",
              "  <tbody>\n",
              "    <tr>\n",
              "      <th>1</th>\n",
              "      <td>True</td>\n",
              "    </tr>\n",
              "    <tr>\n",
              "      <th>7</th>\n",
              "      <td>False</td>\n",
              "    </tr>\n",
              "    <tr>\n",
              "      <th>16</th>\n",
              "      <td>False</td>\n",
              "    </tr>\n",
              "    <tr>\n",
              "      <th>24</th>\n",
              "      <td>False</td>\n",
              "    </tr>\n",
              "    <tr>\n",
              "      <th>29</th>\n",
              "      <td>True</td>\n",
              "    </tr>\n",
              "  </tbody>\n",
              "</table>\n",
              "</div>\n",
              "      <button class=\"colab-df-convert\" onclick=\"convertToInteractive('df-1fdb9b80-8e0a-4a45-b85c-596c7bcefddc')\"\n",
              "              title=\"Convert this dataframe to an interactive table.\"\n",
              "              style=\"display:none;\">\n",
              "        \n",
              "  <svg xmlns=\"http://www.w3.org/2000/svg\" height=\"24px\"viewBox=\"0 0 24 24\"\n",
              "       width=\"24px\">\n",
              "    <path d=\"M0 0h24v24H0V0z\" fill=\"none\"/>\n",
              "    <path d=\"M18.56 5.44l.94 2.06.94-2.06 2.06-.94-2.06-.94-.94-2.06-.94 2.06-2.06.94zm-11 1L8.5 8.5l.94-2.06 2.06-.94-2.06-.94L8.5 2.5l-.94 2.06-2.06.94zm10 10l.94 2.06.94-2.06 2.06-.94-2.06-.94-.94-2.06-.94 2.06-2.06.94z\"/><path d=\"M17.41 7.96l-1.37-1.37c-.4-.4-.92-.59-1.43-.59-.52 0-1.04.2-1.43.59L10.3 9.45l-7.72 7.72c-.78.78-.78 2.05 0 2.83L4 21.41c.39.39.9.59 1.41.59.51 0 1.02-.2 1.41-.59l7.78-7.78 2.81-2.81c.8-.78.8-2.07 0-2.86zM5.41 20L4 18.59l7.72-7.72 1.47 1.35L5.41 20z\"/>\n",
              "  </svg>\n",
              "      </button>\n",
              "      \n",
              "  <style>\n",
              "    .colab-df-container {\n",
              "      display:flex;\n",
              "      flex-wrap:wrap;\n",
              "      gap: 12px;\n",
              "    }\n",
              "\n",
              "    .colab-df-convert {\n",
              "      background-color: #E8F0FE;\n",
              "      border: none;\n",
              "      border-radius: 50%;\n",
              "      cursor: pointer;\n",
              "      display: none;\n",
              "      fill: #1967D2;\n",
              "      height: 32px;\n",
              "      padding: 0 0 0 0;\n",
              "      width: 32px;\n",
              "    }\n",
              "\n",
              "    .colab-df-convert:hover {\n",
              "      background-color: #E2EBFA;\n",
              "      box-shadow: 0px 1px 2px rgba(60, 64, 67, 0.3), 0px 1px 3px 1px rgba(60, 64, 67, 0.15);\n",
              "      fill: #174EA6;\n",
              "    }\n",
              "\n",
              "    [theme=dark] .colab-df-convert {\n",
              "      background-color: #3B4455;\n",
              "      fill: #D2E3FC;\n",
              "    }\n",
              "\n",
              "    [theme=dark] .colab-df-convert:hover {\n",
              "      background-color: #434B5C;\n",
              "      box-shadow: 0px 1px 3px 1px rgba(0, 0, 0, 0.15);\n",
              "      filter: drop-shadow(0px 1px 2px rgba(0, 0, 0, 0.3));\n",
              "      fill: #FFFFFF;\n",
              "    }\n",
              "  </style>\n",
              "\n",
              "      <script>\n",
              "        const buttonEl =\n",
              "          document.querySelector('#df-1fdb9b80-8e0a-4a45-b85c-596c7bcefddc button.colab-df-convert');\n",
              "        buttonEl.style.display =\n",
              "          google.colab.kernel.accessAllowed ? 'block' : 'none';\n",
              "\n",
              "        async function convertToInteractive(key) {\n",
              "          const element = document.querySelector('#df-1fdb9b80-8e0a-4a45-b85c-596c7bcefddc');\n",
              "          const dataTable =\n",
              "            await google.colab.kernel.invokeFunction('convertToInteractive',\n",
              "                                                     [key], {});\n",
              "          if (!dataTable) return;\n",
              "\n",
              "          const docLinkHtml = 'Like what you see? Visit the ' +\n",
              "            '<a target=\"_blank\" href=https://colab.research.google.com/notebooks/data_table.ipynb>data table notebook</a>'\n",
              "            + ' to learn more about interactive tables.';\n",
              "          element.innerHTML = '';\n",
              "          dataTable['output_type'] = 'display_data';\n",
              "          await google.colab.output.renderOutput(dataTable, element);\n",
              "          const docLink = document.createElement('div');\n",
              "          docLink.innerHTML = docLinkHtml;\n",
              "          element.appendChild(docLink);\n",
              "        }\n",
              "      </script>\n",
              "    </div>\n",
              "  </div>\n",
              "  "
            ]
          },
          "metadata": {},
          "execution_count": 5
        }
      ],
      "source": [
        "y = pd.read_csv('train_anwers.csv', sep='\\t')\n",
        "print(y.dtypes)\n",
        "y.set_index('name', inplace=True)\n",
        "y.sort_values(by='name', axis=0, inplace=True)\n",
        "y.head()"
      ]
    },
    {
      "cell_type": "code",
      "execution_count": 6,
      "metadata": {
        "id": "cZZ-P7xNEwxB",
        "colab": {
          "base_uri": "https://localhost:8080/"
        },
        "outputId": "f907669c-4567-4cf9-ad3f-18a8aba4ef9d"
      },
      "outputs": [
        {
          "output_type": "stream",
          "name": "stderr",
          "text": [
            "100%|██████████| 8000/8000 [00:20<00:00, 399.03it/s]\n"
          ]
        }
      ],
      "source": [
        "from tqdm import tqdm\n",
        "\n",
        "\n",
        "raw_data = {}\n",
        "for name in tqdm(y.index):\n",
        "    with open(f'train_data/{name}.json', 'r', encoding='utf-8') as inp:\n",
        "        raw_data[name] = json.load(inp)"
      ]
    },
    {
      "cell_type": "markdown",
      "source": [
        "## Выбор важных численных признаков у катки (без players) по корреляции с таргетом"
      ],
      "metadata": {
        "id": "nX2qdMjVowIw"
      }
    },
    {
      "cell_type": "code",
      "source": [
        "for k, v in raw_data[y.index[0]].items():\n",
        "    if k != 'players':\n",
        "        print(f'{k}:  {v}')"
      ],
      "metadata": {
        "colab": {
          "base_uri": "https://localhost:8080/"
        },
        "id": "C6dyoA_Ho4U4",
        "outputId": "421c2488-f6fc-4d4d-e1d3-61b9393d98e3"
      },
      "execution_count": 7,
      "outputs": [
        {
          "output_type": "stream",
          "name": "stdout",
          "text": [
            "chat:  None\n",
            "cluster:  186\n",
            "cosmetics:  None\n",
            "dire_score:  38\n",
            "dire_team_id:  None\n",
            "draft_timings:  None\n",
            "duration:  1625\n",
            "engine:  0\n",
            "first_blood_time:  9\n",
            "game_mode:  5\n",
            "human_players:  -4\n",
            "leagueid:  0\n",
            "lobby_type:  0\n",
            "match_seq_num:  5780322685\n",
            "negative_votes:  0\n",
            "objectives:  None\n",
            "picks_bans:  [{'is_pick': True, 'hero_id': 31, 'team': 0, 'order': 0}, {'is_pick': True, 'hero_id': 11, 'team': 1, 'order': 1}, {'is_pick': True, 'hero_id': 14, 'team': 0, 'order': 2}, {'is_pick': True, 'hero_id': 22, 'team': 0, 'order': 0}, {'is_pick': True, 'hero_id': 106, 'team': 1, 'order': 4}, {'is_pick': True, 'hero_id': 30, 'team': 0, 'order': 5}, {'is_pick': True, 'hero_id': 39, 'team': 0, 'order': 2}, {}, {}, {'is_pick': True, 'hero_id': 83, 'team': 1, 'order': 9}, {'is_pick': False, 'hero_id': 35, 'team': 0, 'order': 10}, {'is_pick': False, 'hero_id': 9, 'team': 0, 'order': 11}, {'is_pick': False, 'hero_id': 119, 'team': 0, 'order': 12}, {'is_pick': False, 'hero_id': 74, 'team': 0, 'order': 13}, {}]\n",
            "positive_votes:  0\n",
            "radiant_gold_adv:  None\n",
            "radiant_score:  53\n",
            "radiant_team_id:  None\n",
            "radiant_xp_adv:  None\n",
            "skill:  None\n",
            "start_time:  1669911285\n",
            "teamfights:  None\n",
            "version:  None\n",
            "replay_salt:  1247687672\n",
            "series_id:  0\n",
            "series_type:  0\n",
            "patch:  51\n",
            "region:  0\n"
          ]
        }
      ]
    },
    {
      "cell_type": "code",
      "source": [
        "games_matrix_as_dict = {}\n",
        "for k in tqdm(raw_data.keys()):\n",
        "    game_without_players = raw_data[k].copy()\n",
        "    del game_without_players['players']\n",
        "    game_without_players['target'] = int(y.loc[k])\n",
        "\n",
        "    games_matrix_as_dict[k] = game_without_players"
      ],
      "metadata": {
        "colab": {
          "base_uri": "https://localhost:8080/"
        },
        "id": "OcEs4lweo4c_",
        "outputId": "16838fa6-15f4-46ae-b7f1-7ead80c511e0"
      },
      "execution_count": 8,
      "outputs": [
        {
          "output_type": "stream",
          "name": "stderr",
          "text": [
            "100%|██████████| 8000/8000 [00:00<00:00, 11640.29it/s]\n"
          ]
        }
      ]
    },
    {
      "cell_type": "code",
      "source": [
        "game_matrix = pd.DataFrame.from_dict(games_matrix_as_dict, orient='index')\n",
        "game_matrix"
      ],
      "metadata": {
        "colab": {
          "base_uri": "https://localhost:8080/",
          "height": 487
        },
        "id": "bkE-8a43o4kQ",
        "outputId": "e93a457b-9ab6-470d-e8df-41feb15cb0a2"
      },
      "execution_count": 9,
      "outputs": [
        {
          "output_type": "execute_result",
          "data": {
            "text/plain": [
              "       chat  cluster cosmetics  dire_score dire_team_id draft_timings  \\\n",
              "1      None      186      None          38         None          None   \n",
              "7      None      151      None          48         None          None   \n",
              "16     None      152      None          63         None          None   \n",
              "24     None      182      None          57         None          None   \n",
              "29     None      274      None          51         None          None   \n",
              "...     ...      ...       ...         ...          ...           ...   \n",
              "35540  None      274      None           0         None          None   \n",
              "35541  None      182      None          60         None          None   \n",
              "35545  None      251      None          34         None          None   \n",
              "35550  None      181      None          -2         None          None   \n",
              "35552  None      231      None          13         None          None   \n",
              "\n",
              "       duration  engine  first_blood_time  game_mode  ...  series_type  patch  \\\n",
              "1          1625       0                 9          5  ...          0.0     51   \n",
              "7          3337       1                73          4  ...          0.0      2   \n",
              "16         2055       1               156         22  ...          0.0     51   \n",
              "24         2601       1                 7         22  ...          0.0     19   \n",
              "29            0       0                82         22  ...          0.0      0   \n",
              "...         ...     ...               ...        ...  ...          ...    ...   \n",
              "35540      1233       1                12         23  ...          0.0     51   \n",
              "35541      2660       1                 0         22  ...          0.0     51   \n",
              "35545       993       1                72         22  ...          0.0     51   \n",
              "35550      1931       1                92         22  ...          0.0     51   \n",
              "35552       433       1                 0         23  ...          0.0    -20   \n",
              "\n",
              "       region  target  all_word_counts my_word_counts comeback  stomp throw  \\\n",
              "1           0       1              NaN            NaN      NaN    NaN   NaN   \n",
              "7           5       0              NaN            NaN      NaN    NaN   NaN   \n",
              "16          5       0              NaN            NaN      NaN    NaN   NaN   \n",
              "24          8       0              NaN            NaN      NaN    NaN   NaN   \n",
              "29          3       1              NaN            NaN      NaN    NaN   NaN   \n",
              "...       ...     ...              ...            ...      ...    ...   ...   \n",
              "35540       3       1              NaN            NaN      NaN    NaN   NaN   \n",
              "35541       8       0              NaN            NaN      NaN    NaN   NaN   \n",
              "35545      15       1              NaN            NaN      NaN    NaN   NaN   \n",
              "35550       8       1              NaN            NaN      NaN    NaN   NaN   \n",
              "35552      13       0              NaN            NaN      NaN    NaN   NaN   \n",
              "\n",
              "       loss  \n",
              "1       NaN  \n",
              "7       NaN  \n",
              "16      NaN  \n",
              "24      NaN  \n",
              "29      NaN  \n",
              "...     ...  \n",
              "35540   NaN  \n",
              "35541   NaN  \n",
              "35545   NaN  \n",
              "35550   NaN  \n",
              "35552   NaN  \n",
              "\n",
              "[8000 rows x 38 columns]"
            ],
            "text/html": [
              "\n",
              "  <div id=\"df-f367f928-4f5b-4223-b206-034d73eb8015\">\n",
              "    <div class=\"colab-df-container\">\n",
              "      <div>\n",
              "<style scoped>\n",
              "    .dataframe tbody tr th:only-of-type {\n",
              "        vertical-align: middle;\n",
              "    }\n",
              "\n",
              "    .dataframe tbody tr th {\n",
              "        vertical-align: top;\n",
              "    }\n",
              "\n",
              "    .dataframe thead th {\n",
              "        text-align: right;\n",
              "    }\n",
              "</style>\n",
              "<table border=\"1\" class=\"dataframe\">\n",
              "  <thead>\n",
              "    <tr style=\"text-align: right;\">\n",
              "      <th></th>\n",
              "      <th>chat</th>\n",
              "      <th>cluster</th>\n",
              "      <th>cosmetics</th>\n",
              "      <th>dire_score</th>\n",
              "      <th>dire_team_id</th>\n",
              "      <th>draft_timings</th>\n",
              "      <th>duration</th>\n",
              "      <th>engine</th>\n",
              "      <th>first_blood_time</th>\n",
              "      <th>game_mode</th>\n",
              "      <th>...</th>\n",
              "      <th>series_type</th>\n",
              "      <th>patch</th>\n",
              "      <th>region</th>\n",
              "      <th>target</th>\n",
              "      <th>all_word_counts</th>\n",
              "      <th>my_word_counts</th>\n",
              "      <th>comeback</th>\n",
              "      <th>stomp</th>\n",
              "      <th>throw</th>\n",
              "      <th>loss</th>\n",
              "    </tr>\n",
              "  </thead>\n",
              "  <tbody>\n",
              "    <tr>\n",
              "      <th>1</th>\n",
              "      <td>None</td>\n",
              "      <td>186</td>\n",
              "      <td>None</td>\n",
              "      <td>38</td>\n",
              "      <td>None</td>\n",
              "      <td>None</td>\n",
              "      <td>1625</td>\n",
              "      <td>0</td>\n",
              "      <td>9</td>\n",
              "      <td>5</td>\n",
              "      <td>...</td>\n",
              "      <td>0.0</td>\n",
              "      <td>51</td>\n",
              "      <td>0</td>\n",
              "      <td>1</td>\n",
              "      <td>NaN</td>\n",
              "      <td>NaN</td>\n",
              "      <td>NaN</td>\n",
              "      <td>NaN</td>\n",
              "      <td>NaN</td>\n",
              "      <td>NaN</td>\n",
              "    </tr>\n",
              "    <tr>\n",
              "      <th>7</th>\n",
              "      <td>None</td>\n",
              "      <td>151</td>\n",
              "      <td>None</td>\n",
              "      <td>48</td>\n",
              "      <td>None</td>\n",
              "      <td>None</td>\n",
              "      <td>3337</td>\n",
              "      <td>1</td>\n",
              "      <td>73</td>\n",
              "      <td>4</td>\n",
              "      <td>...</td>\n",
              "      <td>0.0</td>\n",
              "      <td>2</td>\n",
              "      <td>5</td>\n",
              "      <td>0</td>\n",
              "      <td>NaN</td>\n",
              "      <td>NaN</td>\n",
              "      <td>NaN</td>\n",
              "      <td>NaN</td>\n",
              "      <td>NaN</td>\n",
              "      <td>NaN</td>\n",
              "    </tr>\n",
              "    <tr>\n",
              "      <th>16</th>\n",
              "      <td>None</td>\n",
              "      <td>152</td>\n",
              "      <td>None</td>\n",
              "      <td>63</td>\n",
              "      <td>None</td>\n",
              "      <td>None</td>\n",
              "      <td>2055</td>\n",
              "      <td>1</td>\n",
              "      <td>156</td>\n",
              "      <td>22</td>\n",
              "      <td>...</td>\n",
              "      <td>0.0</td>\n",
              "      <td>51</td>\n",
              "      <td>5</td>\n",
              "      <td>0</td>\n",
              "      <td>NaN</td>\n",
              "      <td>NaN</td>\n",
              "      <td>NaN</td>\n",
              "      <td>NaN</td>\n",
              "      <td>NaN</td>\n",
              "      <td>NaN</td>\n",
              "    </tr>\n",
              "    <tr>\n",
              "      <th>24</th>\n",
              "      <td>None</td>\n",
              "      <td>182</td>\n",
              "      <td>None</td>\n",
              "      <td>57</td>\n",
              "      <td>None</td>\n",
              "      <td>None</td>\n",
              "      <td>2601</td>\n",
              "      <td>1</td>\n",
              "      <td>7</td>\n",
              "      <td>22</td>\n",
              "      <td>...</td>\n",
              "      <td>0.0</td>\n",
              "      <td>19</td>\n",
              "      <td>8</td>\n",
              "      <td>0</td>\n",
              "      <td>NaN</td>\n",
              "      <td>NaN</td>\n",
              "      <td>NaN</td>\n",
              "      <td>NaN</td>\n",
              "      <td>NaN</td>\n",
              "      <td>NaN</td>\n",
              "    </tr>\n",
              "    <tr>\n",
              "      <th>29</th>\n",
              "      <td>None</td>\n",
              "      <td>274</td>\n",
              "      <td>None</td>\n",
              "      <td>51</td>\n",
              "      <td>None</td>\n",
              "      <td>None</td>\n",
              "      <td>0</td>\n",
              "      <td>0</td>\n",
              "      <td>82</td>\n",
              "      <td>22</td>\n",
              "      <td>...</td>\n",
              "      <td>0.0</td>\n",
              "      <td>0</td>\n",
              "      <td>3</td>\n",
              "      <td>1</td>\n",
              "      <td>NaN</td>\n",
              "      <td>NaN</td>\n",
              "      <td>NaN</td>\n",
              "      <td>NaN</td>\n",
              "      <td>NaN</td>\n",
              "      <td>NaN</td>\n",
              "    </tr>\n",
              "    <tr>\n",
              "      <th>...</th>\n",
              "      <td>...</td>\n",
              "      <td>...</td>\n",
              "      <td>...</td>\n",
              "      <td>...</td>\n",
              "      <td>...</td>\n",
              "      <td>...</td>\n",
              "      <td>...</td>\n",
              "      <td>...</td>\n",
              "      <td>...</td>\n",
              "      <td>...</td>\n",
              "      <td>...</td>\n",
              "      <td>...</td>\n",
              "      <td>...</td>\n",
              "      <td>...</td>\n",
              "      <td>...</td>\n",
              "      <td>...</td>\n",
              "      <td>...</td>\n",
              "      <td>...</td>\n",
              "      <td>...</td>\n",
              "      <td>...</td>\n",
              "      <td>...</td>\n",
              "    </tr>\n",
              "    <tr>\n",
              "      <th>35540</th>\n",
              "      <td>None</td>\n",
              "      <td>274</td>\n",
              "      <td>None</td>\n",
              "      <td>0</td>\n",
              "      <td>None</td>\n",
              "      <td>None</td>\n",
              "      <td>1233</td>\n",
              "      <td>1</td>\n",
              "      <td>12</td>\n",
              "      <td>23</td>\n",
              "      <td>...</td>\n",
              "      <td>0.0</td>\n",
              "      <td>51</td>\n",
              "      <td>3</td>\n",
              "      <td>1</td>\n",
              "      <td>NaN</td>\n",
              "      <td>NaN</td>\n",
              "      <td>NaN</td>\n",
              "      <td>NaN</td>\n",
              "      <td>NaN</td>\n",
              "      <td>NaN</td>\n",
              "    </tr>\n",
              "    <tr>\n",
              "      <th>35541</th>\n",
              "      <td>None</td>\n",
              "      <td>182</td>\n",
              "      <td>None</td>\n",
              "      <td>60</td>\n",
              "      <td>None</td>\n",
              "      <td>None</td>\n",
              "      <td>2660</td>\n",
              "      <td>1</td>\n",
              "      <td>0</td>\n",
              "      <td>22</td>\n",
              "      <td>...</td>\n",
              "      <td>0.0</td>\n",
              "      <td>51</td>\n",
              "      <td>8</td>\n",
              "      <td>0</td>\n",
              "      <td>NaN</td>\n",
              "      <td>NaN</td>\n",
              "      <td>NaN</td>\n",
              "      <td>NaN</td>\n",
              "      <td>NaN</td>\n",
              "      <td>NaN</td>\n",
              "    </tr>\n",
              "    <tr>\n",
              "      <th>35545</th>\n",
              "      <td>None</td>\n",
              "      <td>251</td>\n",
              "      <td>None</td>\n",
              "      <td>34</td>\n",
              "      <td>None</td>\n",
              "      <td>None</td>\n",
              "      <td>993</td>\n",
              "      <td>1</td>\n",
              "      <td>72</td>\n",
              "      <td>22</td>\n",
              "      <td>...</td>\n",
              "      <td>0.0</td>\n",
              "      <td>51</td>\n",
              "      <td>15</td>\n",
              "      <td>1</td>\n",
              "      <td>NaN</td>\n",
              "      <td>NaN</td>\n",
              "      <td>NaN</td>\n",
              "      <td>NaN</td>\n",
              "      <td>NaN</td>\n",
              "      <td>NaN</td>\n",
              "    </tr>\n",
              "    <tr>\n",
              "      <th>35550</th>\n",
              "      <td>None</td>\n",
              "      <td>181</td>\n",
              "      <td>None</td>\n",
              "      <td>-2</td>\n",
              "      <td>None</td>\n",
              "      <td>None</td>\n",
              "      <td>1931</td>\n",
              "      <td>1</td>\n",
              "      <td>92</td>\n",
              "      <td>22</td>\n",
              "      <td>...</td>\n",
              "      <td>0.0</td>\n",
              "      <td>51</td>\n",
              "      <td>8</td>\n",
              "      <td>1</td>\n",
              "      <td>NaN</td>\n",
              "      <td>NaN</td>\n",
              "      <td>NaN</td>\n",
              "      <td>NaN</td>\n",
              "      <td>NaN</td>\n",
              "      <td>NaN</td>\n",
              "    </tr>\n",
              "    <tr>\n",
              "      <th>35552</th>\n",
              "      <td>None</td>\n",
              "      <td>231</td>\n",
              "      <td>None</td>\n",
              "      <td>13</td>\n",
              "      <td>None</td>\n",
              "      <td>None</td>\n",
              "      <td>433</td>\n",
              "      <td>1</td>\n",
              "      <td>0</td>\n",
              "      <td>23</td>\n",
              "      <td>...</td>\n",
              "      <td>0.0</td>\n",
              "      <td>-20</td>\n",
              "      <td>13</td>\n",
              "      <td>0</td>\n",
              "      <td>NaN</td>\n",
              "      <td>NaN</td>\n",
              "      <td>NaN</td>\n",
              "      <td>NaN</td>\n",
              "      <td>NaN</td>\n",
              "      <td>NaN</td>\n",
              "    </tr>\n",
              "  </tbody>\n",
              "</table>\n",
              "<p>8000 rows × 38 columns</p>\n",
              "</div>\n",
              "      <button class=\"colab-df-convert\" onclick=\"convertToInteractive('df-f367f928-4f5b-4223-b206-034d73eb8015')\"\n",
              "              title=\"Convert this dataframe to an interactive table.\"\n",
              "              style=\"display:none;\">\n",
              "        \n",
              "  <svg xmlns=\"http://www.w3.org/2000/svg\" height=\"24px\"viewBox=\"0 0 24 24\"\n",
              "       width=\"24px\">\n",
              "    <path d=\"M0 0h24v24H0V0z\" fill=\"none\"/>\n",
              "    <path d=\"M18.56 5.44l.94 2.06.94-2.06 2.06-.94-2.06-.94-.94-2.06-.94 2.06-2.06.94zm-11 1L8.5 8.5l.94-2.06 2.06-.94-2.06-.94L8.5 2.5l-.94 2.06-2.06.94zm10 10l.94 2.06.94-2.06 2.06-.94-2.06-.94-.94-2.06-.94 2.06-2.06.94z\"/><path d=\"M17.41 7.96l-1.37-1.37c-.4-.4-.92-.59-1.43-.59-.52 0-1.04.2-1.43.59L10.3 9.45l-7.72 7.72c-.78.78-.78 2.05 0 2.83L4 21.41c.39.39.9.59 1.41.59.51 0 1.02-.2 1.41-.59l7.78-7.78 2.81-2.81c.8-.78.8-2.07 0-2.86zM5.41 20L4 18.59l7.72-7.72 1.47 1.35L5.41 20z\"/>\n",
              "  </svg>\n",
              "      </button>\n",
              "      \n",
              "  <style>\n",
              "    .colab-df-container {\n",
              "      display:flex;\n",
              "      flex-wrap:wrap;\n",
              "      gap: 12px;\n",
              "    }\n",
              "\n",
              "    .colab-df-convert {\n",
              "      background-color: #E8F0FE;\n",
              "      border: none;\n",
              "      border-radius: 50%;\n",
              "      cursor: pointer;\n",
              "      display: none;\n",
              "      fill: #1967D2;\n",
              "      height: 32px;\n",
              "      padding: 0 0 0 0;\n",
              "      width: 32px;\n",
              "    }\n",
              "\n",
              "    .colab-df-convert:hover {\n",
              "      background-color: #E2EBFA;\n",
              "      box-shadow: 0px 1px 2px rgba(60, 64, 67, 0.3), 0px 1px 3px 1px rgba(60, 64, 67, 0.15);\n",
              "      fill: #174EA6;\n",
              "    }\n",
              "\n",
              "    [theme=dark] .colab-df-convert {\n",
              "      background-color: #3B4455;\n",
              "      fill: #D2E3FC;\n",
              "    }\n",
              "\n",
              "    [theme=dark] .colab-df-convert:hover {\n",
              "      background-color: #434B5C;\n",
              "      box-shadow: 0px 1px 3px 1px rgba(0, 0, 0, 0.15);\n",
              "      filter: drop-shadow(0px 1px 2px rgba(0, 0, 0, 0.3));\n",
              "      fill: #FFFFFF;\n",
              "    }\n",
              "  </style>\n",
              "\n",
              "      <script>\n",
              "        const buttonEl =\n",
              "          document.querySelector('#df-f367f928-4f5b-4223-b206-034d73eb8015 button.colab-df-convert');\n",
              "        buttonEl.style.display =\n",
              "          google.colab.kernel.accessAllowed ? 'block' : 'none';\n",
              "\n",
              "        async function convertToInteractive(key) {\n",
              "          const element = document.querySelector('#df-f367f928-4f5b-4223-b206-034d73eb8015');\n",
              "          const dataTable =\n",
              "            await google.colab.kernel.invokeFunction('convertToInteractive',\n",
              "                                                     [key], {});\n",
              "          if (!dataTable) return;\n",
              "\n",
              "          const docLinkHtml = 'Like what you see? Visit the ' +\n",
              "            '<a target=\"_blank\" href=https://colab.research.google.com/notebooks/data_table.ipynb>data table notebook</a>'\n",
              "            + ' to learn more about interactive tables.';\n",
              "          element.innerHTML = '';\n",
              "          dataTable['output_type'] = 'display_data';\n",
              "          await google.colab.output.renderOutput(dataTable, element);\n",
              "          const docLink = document.createElement('div');\n",
              "          docLink.innerHTML = docLinkHtml;\n",
              "          element.appendChild(docLink);\n",
              "        }\n",
              "      </script>\n",
              "    </div>\n",
              "  </div>\n",
              "  "
            ]
          },
          "metadata": {},
          "execution_count": 9
        }
      ]
    },
    {
      "cell_type": "code",
      "source": [
        "num_cols_game = [col for col in game_matrix.columns\n",
        "            if game_matrix[col].dtype in ['int64', 'float64']]\n",
        "\n",
        "cat_cols_game = [col for col in game_matrix.columns if\n",
        "            game_matrix[col].dtype == \"object\"]\n",
        "\n",
        "bool_cols_game = [col for col in game_matrix.columns if\n",
        "             game_matrix[col].dtype == 'bool']\n",
        "print(f'num_cols_game: {len(num_cols_game)}')\n",
        "print(f'cat_cols_game: {len(cat_cols_game)}')\n",
        "print(f'bool_cols_game: {len(bool_cols_game)}')\n",
        "assert len(num_cols_game) + len(cat_cols_game) + len(bool_cols_game) == game_matrix.shape[1]"
      ],
      "metadata": {
        "colab": {
          "base_uri": "https://localhost:8080/"
        },
        "id": "GP5EZ8cMumui",
        "outputId": "33e05e52-1a87-459c-fbf6-1d5a237a3ed4"
      },
      "execution_count": 10,
      "outputs": [
        {
          "output_type": "stream",
          "name": "stdout",
          "text": [
            "num_cols_game: 25\n",
            "cat_cols_game: 13\n",
            "bool_cols_game: 0\n"
          ]
        }
      ]
    },
    {
      "cell_type": "code",
      "source": [
        "na_count = game_matrix[num_cols_game].isna().sum().sort_values(ascending=False)\n",
        "na_count"
      ],
      "metadata": {
        "colab": {
          "base_uri": "https://localhost:8080/"
        },
        "id": "Y2j7rqj5v2bR",
        "outputId": "7475aede-897a-4cae-93a1-571845573060"
      },
      "execution_count": 11,
      "outputs": [
        {
          "output_type": "execute_result",
          "data": {
            "text/plain": [
              "stomp               7966\n",
              "comeback            7966\n",
              "loss                7963\n",
              "throw               7963\n",
              "version             7929\n",
              "series_type           54\n",
              "series_id             54\n",
              "replay_salt           54\n",
              "start_time             0\n",
              "target                 0\n",
              "region                 0\n",
              "patch                  0\n",
              "cluster                0\n",
              "dire_score             0\n",
              "positive_votes         0\n",
              "negative_votes         0\n",
              "match_seq_num          0\n",
              "lobby_type             0\n",
              "leagueid               0\n",
              "human_players          0\n",
              "game_mode              0\n",
              "first_blood_time       0\n",
              "engine                 0\n",
              "duration               0\n",
              "radiant_score          0\n",
              "dtype: int64"
            ]
          },
          "metadata": {},
          "execution_count": 11
        }
      ]
    },
    {
      "cell_type": "code",
      "source": [
        "num_cols_game_without_na = na_count[na_count <= game_matrix.shape[0] - 100].index\n",
        "num_cols_game_without_na"
      ],
      "metadata": {
        "colab": {
          "base_uri": "https://localhost:8080/"
        },
        "id": "Bx6oS29ev9DM",
        "outputId": "bac409f7-3ccc-4763-83dc-f6129b489450"
      },
      "execution_count": 12,
      "outputs": [
        {
          "output_type": "execute_result",
          "data": {
            "text/plain": [
              "Index(['series_type', 'series_id', 'replay_salt', 'start_time', 'target',\n",
              "       'region', 'patch', 'cluster', 'dire_score', 'positive_votes',\n",
              "       'negative_votes', 'match_seq_num', 'lobby_type', 'leagueid',\n",
              "       'human_players', 'game_mode', 'first_blood_time', 'engine', 'duration',\n",
              "       'radiant_score'],\n",
              "      dtype='object')"
            ]
          },
          "metadata": {},
          "execution_count": 12
        }
      ]
    },
    {
      "cell_type": "code",
      "source": [
        "corr = game_matrix[num_cols_game_without_na].corr()['target'].sort_values(ascending=False)\n",
        "corr"
      ],
      "metadata": {
        "colab": {
          "base_uri": "https://localhost:8080/"
        },
        "id": "ONT7LOihumyj",
        "outputId": "a1504a79-3519-4c90-fb38-e71c2de313a1"
      },
      "execution_count": 13,
      "outputs": [
        {
          "output_type": "execute_result",
          "data": {
            "text/plain": [
              "target              1.000000\n",
              "radiant_score       0.287782\n",
              "match_seq_num       0.018218\n",
              "game_mode           0.012491\n",
              "start_time          0.009667\n",
              "engine              0.006457\n",
              "cluster             0.001642\n",
              "human_players      -0.002494\n",
              "region             -0.002527\n",
              "first_blood_time   -0.008031\n",
              "replay_salt        -0.014683\n",
              "lobby_type         -0.016479\n",
              "patch              -0.021456\n",
              "duration           -0.027636\n",
              "dire_score         -0.330406\n",
              "series_type              NaN\n",
              "series_id                NaN\n",
              "positive_votes           NaN\n",
              "negative_votes           NaN\n",
              "leagueid                 NaN\n",
              "Name: target, dtype: float64"
            ]
          },
          "metadata": {},
          "execution_count": 13
        }
      ]
    },
    {
      "cell_type": "markdown",
      "source": [
        "Убедимся, что не можем использовать колонки в которых не посчиталась корреляция."
      ],
      "metadata": {
        "id": "VTCaid1oxt-i"
      }
    },
    {
      "cell_type": "code",
      "source": [
        "for x in corr[corr.isna()].index:\n",
        "    print(np.unique(game_matrix[x]))"
      ],
      "metadata": {
        "colab": {
          "base_uri": "https://localhost:8080/"
        },
        "id": "xOM8ORT0wrFT",
        "outputId": "b3695580-139c-4ecd-993b-b7374b5b9275"
      },
      "execution_count": 14,
      "outputs": [
        {
          "output_type": "stream",
          "name": "stdout",
          "text": [
            "[ 0. nan]\n",
            "[ 0. nan]\n",
            "[0]\n",
            "[0]\n",
            "[0]\n"
          ]
        }
      ]
    },
    {
      "cell_type": "code",
      "source": [
        "corr = corr[corr.isna() != True]"
      ],
      "metadata": {
        "id": "3lW-vmB_x7fa"
      },
      "execution_count": 15,
      "outputs": []
    },
    {
      "cell_type": "code",
      "source": [
        "important_num_game_cols = corr[np.abs(corr).sort_values(ascending=False) >= 0.1].index[1:]\n",
        "important_num_game_cols # важные числовые признаки game"
      ],
      "metadata": {
        "colab": {
          "base_uri": "https://localhost:8080/"
        },
        "id": "HbdIJ6BmvhQI",
        "outputId": "45082ed8-2410-4f6c-b368-4cafc08a7955"
      },
      "execution_count": 16,
      "outputs": [
        {
          "output_type": "execute_result",
          "data": {
            "text/plain": [
              "Index(['radiant_score', 'dire_score'], dtype='object')"
            ]
          },
          "metadata": {},
          "execution_count": 16
        }
      ]
    },
    {
      "cell_type": "markdown",
      "source": [
        "radiant_score - скор команды с нижней базы\n",
        "\n",
        "dire_score - скор команды с верхней базы"
      ],
      "metadata": {
        "id": "YROw4zzr1gMz"
      }
    },
    {
      "cell_type": "markdown",
      "source": [
        "## Выбор важных численных признаков у players по корреляции с таргетом."
      ],
      "metadata": {
        "id": "OFHOjWFwncEg"
      }
    },
    {
      "cell_type": "code",
      "source": [
        "players_matrix_as_dict = {}\n",
        "for k in tqdm(raw_data.keys()):\n",
        "    for i, player in enumerate(raw_data[k]['players']):\n",
        "        if i >= 5:\n",
        "            break\n",
        "        player['target'] = int(y.loc[k])\n",
        "        players_matrix_as_dict[f'{k}-{i}'] = player"
      ],
      "metadata": {
        "id": "qhkPWFPZdNJv",
        "colab": {
          "base_uri": "https://localhost:8080/"
        },
        "outputId": "f63699d9-e8c5-4151-ab2b-a4667d96b1f1"
      },
      "execution_count": 17,
      "outputs": [
        {
          "output_type": "stream",
          "name": "stderr",
          "text": [
            "100%|██████████| 8000/8000 [00:06<00:00, 1311.28it/s]\n"
          ]
        }
      ]
    },
    {
      "cell_type": "code",
      "source": [
        "players_matrix = pd.DataFrame.from_dict(players_matrix_as_dict, orient='index')\n",
        "players_matrix"
      ],
      "metadata": {
        "id": "QwrTF8FIe7-Z",
        "colab": {
          "base_uri": "https://localhost:8080/",
          "height": 765
        },
        "outputId": "f2dcb755-6814-4596-bd40-e4da5bbc65a4"
      },
      "execution_count": 18,
      "outputs": [
        {
          "output_type": "execute_result",
          "data": {
            "text/plain": [
              "         player_slot ability_targets  \\\n",
              "1-0                0            None   \n",
              "1-1                1            None   \n",
              "1-2                2            None   \n",
              "1-3                3            None   \n",
              "1-4                0            None   \n",
              "...              ...             ...   \n",
              "35552-0            0            None   \n",
              "35552-1            1            None   \n",
              "35552-2            0            None   \n",
              "35552-3            3            None   \n",
              "35552-4            4            None   \n",
              "\n",
              "                                      ability_upgrades_arr ability_uses  \\\n",
              "1-0      [5175, 5173, 5173, 5174, 5175, 5176, 5175, 517...         None   \n",
              "1-1      [5110, 5111, 641, 5111, 5111, 5113, 5110, 641,...         None   \n",
              "1-2      [5075, 5076, 5076, 5074, 5076, 5077, 5076, 507...         None   \n",
              "1-3      [5395, 5397, 5395, 5397, -318, 5398, 5395, 539...         None   \n",
              "1-4      [5140, 5138, 5138, 5140, 5138, 0, 5138, 219, 5...         None   \n",
              "...                                                    ...          ...   \n",
              "35552-0  [5260, 1645, 5260, 5259, 5259, 5262, 5259, 525...         None   \n",
              "35552-1                           [5164, 0, 5164, 0, 5164]         None   \n",
              "35552-2  [5341, 5340, 5341, 5340, 5339, 2353, 5341, 533...         None   \n",
              "35552-3               [5486, 1694, 5486, 5488, 5486, 5487]         None   \n",
              "35552-4                  [5372, 5371, 5370, 5372, 5372, 0]         None   \n",
              "\n",
              "        actions additional_units  assists  backpack_0  backpack_1  backpack_2  \\\n",
              "1-0        None             None       17         218           0           0   \n",
              "1-1        None             None       -5           0           0           0   \n",
              "1-2        None             None       10          41         216          39   \n",
              "1-3        None             None       25           0           0           0   \n",
              "1-4        None             None       19           0           0           0   \n",
              "...         ...              ...      ...         ...         ...         ...   \n",
              "35552-0    None             None        7           0           0           0   \n",
              "35552-1    None             None       -1           0           0           0   \n",
              "35552-2    None             None        0           0           0           0   \n",
              "35552-3    None             None        2           0           0           0   \n",
              "35552-4    None             None        6           0           0           0   \n",
              "\n",
              "         ... item_usage purchase_tpscroll  actions_per_min life_state_dead  \\\n",
              "1-0      ...        NaN               NaN              NaN             NaN   \n",
              "1-1      ...        NaN               NaN              NaN             NaN   \n",
              "1-2      ...        NaN               NaN              NaN             NaN   \n",
              "1-3      ...        NaN               NaN              NaN             NaN   \n",
              "1-4      ...        NaN               NaN              NaN             NaN   \n",
              "...      ...        ...               ...              ...             ...   \n",
              "35552-0  ...        NaN               NaN              NaN             NaN   \n",
              "35552-1  ...        NaN               NaN              NaN             NaN   \n",
              "35552-2  ...        NaN               NaN              NaN             NaN   \n",
              "35552-3  ...        NaN               NaN              NaN             NaN   \n",
              "35552-4  ...        NaN               NaN              NaN             NaN   \n",
              "\n",
              "         purchase_ward_observer lane_efficiency lane_efficiency_pct  \\\n",
              "1-0                         NaN             NaN                 NaN   \n",
              "1-1                         NaN             NaN                 NaN   \n",
              "1-2                         NaN             NaN                 NaN   \n",
              "1-3                         NaN             NaN                 NaN   \n",
              "1-4                         NaN             NaN                 NaN   \n",
              "...                         ...             ...                 ...   \n",
              "35552-0                     NaN             NaN                 NaN   \n",
              "35552-1                     NaN             NaN                 NaN   \n",
              "35552-2                     NaN             NaN                 NaN   \n",
              "35552-3                     NaN             NaN                 NaN   \n",
              "35552-4                     NaN             NaN                 NaN   \n",
              "\n",
              "        purchase_ward_sentry purchase_gem purchase_rapier  \n",
              "1-0                      NaN          NaN             NaN  \n",
              "1-1                      NaN          NaN             NaN  \n",
              "1-2                      NaN          NaN             NaN  \n",
              "1-3                      NaN          NaN             NaN  \n",
              "1-4                      NaN          NaN             NaN  \n",
              "...                      ...          ...             ...  \n",
              "35552-0                  NaN          NaN             NaN  \n",
              "35552-1                  NaN          NaN             NaN  \n",
              "35552-2                  NaN          NaN             NaN  \n",
              "35552-3                  NaN          NaN             NaN  \n",
              "35552-4                  NaN          NaN             NaN  \n",
              "\n",
              "[35845 rows x 136 columns]"
            ],
            "text/html": [
              "\n",
              "  <div id=\"df-539a22d4-4e1b-4b22-a2b1-836db276775b\">\n",
              "    <div class=\"colab-df-container\">\n",
              "      <div>\n",
              "<style scoped>\n",
              "    .dataframe tbody tr th:only-of-type {\n",
              "        vertical-align: middle;\n",
              "    }\n",
              "\n",
              "    .dataframe tbody tr th {\n",
              "        vertical-align: top;\n",
              "    }\n",
              "\n",
              "    .dataframe thead th {\n",
              "        text-align: right;\n",
              "    }\n",
              "</style>\n",
              "<table border=\"1\" class=\"dataframe\">\n",
              "  <thead>\n",
              "    <tr style=\"text-align: right;\">\n",
              "      <th></th>\n",
              "      <th>player_slot</th>\n",
              "      <th>ability_targets</th>\n",
              "      <th>ability_upgrades_arr</th>\n",
              "      <th>ability_uses</th>\n",
              "      <th>actions</th>\n",
              "      <th>additional_units</th>\n",
              "      <th>assists</th>\n",
              "      <th>backpack_0</th>\n",
              "      <th>backpack_1</th>\n",
              "      <th>backpack_2</th>\n",
              "      <th>...</th>\n",
              "      <th>item_usage</th>\n",
              "      <th>purchase_tpscroll</th>\n",
              "      <th>actions_per_min</th>\n",
              "      <th>life_state_dead</th>\n",
              "      <th>purchase_ward_observer</th>\n",
              "      <th>lane_efficiency</th>\n",
              "      <th>lane_efficiency_pct</th>\n",
              "      <th>purchase_ward_sentry</th>\n",
              "      <th>purchase_gem</th>\n",
              "      <th>purchase_rapier</th>\n",
              "    </tr>\n",
              "  </thead>\n",
              "  <tbody>\n",
              "    <tr>\n",
              "      <th>1-0</th>\n",
              "      <td>0</td>\n",
              "      <td>None</td>\n",
              "      <td>[5175, 5173, 5173, 5174, 5175, 5176, 5175, 517...</td>\n",
              "      <td>None</td>\n",
              "      <td>None</td>\n",
              "      <td>None</td>\n",
              "      <td>17</td>\n",
              "      <td>218</td>\n",
              "      <td>0</td>\n",
              "      <td>0</td>\n",
              "      <td>...</td>\n",
              "      <td>NaN</td>\n",
              "      <td>NaN</td>\n",
              "      <td>NaN</td>\n",
              "      <td>NaN</td>\n",
              "      <td>NaN</td>\n",
              "      <td>NaN</td>\n",
              "      <td>NaN</td>\n",
              "      <td>NaN</td>\n",
              "      <td>NaN</td>\n",
              "      <td>NaN</td>\n",
              "    </tr>\n",
              "    <tr>\n",
              "      <th>1-1</th>\n",
              "      <td>1</td>\n",
              "      <td>None</td>\n",
              "      <td>[5110, 5111, 641, 5111, 5111, 5113, 5110, 641,...</td>\n",
              "      <td>None</td>\n",
              "      <td>None</td>\n",
              "      <td>None</td>\n",
              "      <td>-5</td>\n",
              "      <td>0</td>\n",
              "      <td>0</td>\n",
              "      <td>0</td>\n",
              "      <td>...</td>\n",
              "      <td>NaN</td>\n",
              "      <td>NaN</td>\n",
              "      <td>NaN</td>\n",
              "      <td>NaN</td>\n",
              "      <td>NaN</td>\n",
              "      <td>NaN</td>\n",
              "      <td>NaN</td>\n",
              "      <td>NaN</td>\n",
              "      <td>NaN</td>\n",
              "      <td>NaN</td>\n",
              "    </tr>\n",
              "    <tr>\n",
              "      <th>1-2</th>\n",
              "      <td>2</td>\n",
              "      <td>None</td>\n",
              "      <td>[5075, 5076, 5076, 5074, 5076, 5077, 5076, 507...</td>\n",
              "      <td>None</td>\n",
              "      <td>None</td>\n",
              "      <td>None</td>\n",
              "      <td>10</td>\n",
              "      <td>41</td>\n",
              "      <td>216</td>\n",
              "      <td>39</td>\n",
              "      <td>...</td>\n",
              "      <td>NaN</td>\n",
              "      <td>NaN</td>\n",
              "      <td>NaN</td>\n",
              "      <td>NaN</td>\n",
              "      <td>NaN</td>\n",
              "      <td>NaN</td>\n",
              "      <td>NaN</td>\n",
              "      <td>NaN</td>\n",
              "      <td>NaN</td>\n",
              "      <td>NaN</td>\n",
              "    </tr>\n",
              "    <tr>\n",
              "      <th>1-3</th>\n",
              "      <td>3</td>\n",
              "      <td>None</td>\n",
              "      <td>[5395, 5397, 5395, 5397, -318, 5398, 5395, 539...</td>\n",
              "      <td>None</td>\n",
              "      <td>None</td>\n",
              "      <td>None</td>\n",
              "      <td>25</td>\n",
              "      <td>0</td>\n",
              "      <td>0</td>\n",
              "      <td>0</td>\n",
              "      <td>...</td>\n",
              "      <td>NaN</td>\n",
              "      <td>NaN</td>\n",
              "      <td>NaN</td>\n",
              "      <td>NaN</td>\n",
              "      <td>NaN</td>\n",
              "      <td>NaN</td>\n",
              "      <td>NaN</td>\n",
              "      <td>NaN</td>\n",
              "      <td>NaN</td>\n",
              "      <td>NaN</td>\n",
              "    </tr>\n",
              "    <tr>\n",
              "      <th>1-4</th>\n",
              "      <td>0</td>\n",
              "      <td>None</td>\n",
              "      <td>[5140, 5138, 5138, 5140, 5138, 0, 5138, 219, 5...</td>\n",
              "      <td>None</td>\n",
              "      <td>None</td>\n",
              "      <td>None</td>\n",
              "      <td>19</td>\n",
              "      <td>0</td>\n",
              "      <td>0</td>\n",
              "      <td>0</td>\n",
              "      <td>...</td>\n",
              "      <td>NaN</td>\n",
              "      <td>NaN</td>\n",
              "      <td>NaN</td>\n",
              "      <td>NaN</td>\n",
              "      <td>NaN</td>\n",
              "      <td>NaN</td>\n",
              "      <td>NaN</td>\n",
              "      <td>NaN</td>\n",
              "      <td>NaN</td>\n",
              "      <td>NaN</td>\n",
              "    </tr>\n",
              "    <tr>\n",
              "      <th>...</th>\n",
              "      <td>...</td>\n",
              "      <td>...</td>\n",
              "      <td>...</td>\n",
              "      <td>...</td>\n",
              "      <td>...</td>\n",
              "      <td>...</td>\n",
              "      <td>...</td>\n",
              "      <td>...</td>\n",
              "      <td>...</td>\n",
              "      <td>...</td>\n",
              "      <td>...</td>\n",
              "      <td>...</td>\n",
              "      <td>...</td>\n",
              "      <td>...</td>\n",
              "      <td>...</td>\n",
              "      <td>...</td>\n",
              "      <td>...</td>\n",
              "      <td>...</td>\n",
              "      <td>...</td>\n",
              "      <td>...</td>\n",
              "      <td>...</td>\n",
              "    </tr>\n",
              "    <tr>\n",
              "      <th>35552-0</th>\n",
              "      <td>0</td>\n",
              "      <td>None</td>\n",
              "      <td>[5260, 1645, 5260, 5259, 5259, 5262, 5259, 525...</td>\n",
              "      <td>None</td>\n",
              "      <td>None</td>\n",
              "      <td>None</td>\n",
              "      <td>7</td>\n",
              "      <td>0</td>\n",
              "      <td>0</td>\n",
              "      <td>0</td>\n",
              "      <td>...</td>\n",
              "      <td>NaN</td>\n",
              "      <td>NaN</td>\n",
              "      <td>NaN</td>\n",
              "      <td>NaN</td>\n",
              "      <td>NaN</td>\n",
              "      <td>NaN</td>\n",
              "      <td>NaN</td>\n",
              "      <td>NaN</td>\n",
              "      <td>NaN</td>\n",
              "      <td>NaN</td>\n",
              "    </tr>\n",
              "    <tr>\n",
              "      <th>35552-1</th>\n",
              "      <td>1</td>\n",
              "      <td>None</td>\n",
              "      <td>[5164, 0, 5164, 0, 5164]</td>\n",
              "      <td>None</td>\n",
              "      <td>None</td>\n",
              "      <td>None</td>\n",
              "      <td>-1</td>\n",
              "      <td>0</td>\n",
              "      <td>0</td>\n",
              "      <td>0</td>\n",
              "      <td>...</td>\n",
              "      <td>NaN</td>\n",
              "      <td>NaN</td>\n",
              "      <td>NaN</td>\n",
              "      <td>NaN</td>\n",
              "      <td>NaN</td>\n",
              "      <td>NaN</td>\n",
              "      <td>NaN</td>\n",
              "      <td>NaN</td>\n",
              "      <td>NaN</td>\n",
              "      <td>NaN</td>\n",
              "    </tr>\n",
              "    <tr>\n",
              "      <th>35552-2</th>\n",
              "      <td>0</td>\n",
              "      <td>None</td>\n",
              "      <td>[5341, 5340, 5341, 5340, 5339, 2353, 5341, 533...</td>\n",
              "      <td>None</td>\n",
              "      <td>None</td>\n",
              "      <td>None</td>\n",
              "      <td>0</td>\n",
              "      <td>0</td>\n",
              "      <td>0</td>\n",
              "      <td>0</td>\n",
              "      <td>...</td>\n",
              "      <td>NaN</td>\n",
              "      <td>NaN</td>\n",
              "      <td>NaN</td>\n",
              "      <td>NaN</td>\n",
              "      <td>NaN</td>\n",
              "      <td>NaN</td>\n",
              "      <td>NaN</td>\n",
              "      <td>NaN</td>\n",
              "      <td>NaN</td>\n",
              "      <td>NaN</td>\n",
              "    </tr>\n",
              "    <tr>\n",
              "      <th>35552-3</th>\n",
              "      <td>3</td>\n",
              "      <td>None</td>\n",
              "      <td>[5486, 1694, 5486, 5488, 5486, 5487]</td>\n",
              "      <td>None</td>\n",
              "      <td>None</td>\n",
              "      <td>None</td>\n",
              "      <td>2</td>\n",
              "      <td>0</td>\n",
              "      <td>0</td>\n",
              "      <td>0</td>\n",
              "      <td>...</td>\n",
              "      <td>NaN</td>\n",
              "      <td>NaN</td>\n",
              "      <td>NaN</td>\n",
              "      <td>NaN</td>\n",
              "      <td>NaN</td>\n",
              "      <td>NaN</td>\n",
              "      <td>NaN</td>\n",
              "      <td>NaN</td>\n",
              "      <td>NaN</td>\n",
              "      <td>NaN</td>\n",
              "    </tr>\n",
              "    <tr>\n",
              "      <th>35552-4</th>\n",
              "      <td>4</td>\n",
              "      <td>None</td>\n",
              "      <td>[5372, 5371, 5370, 5372, 5372, 0]</td>\n",
              "      <td>None</td>\n",
              "      <td>None</td>\n",
              "      <td>None</td>\n",
              "      <td>6</td>\n",
              "      <td>0</td>\n",
              "      <td>0</td>\n",
              "      <td>0</td>\n",
              "      <td>...</td>\n",
              "      <td>NaN</td>\n",
              "      <td>NaN</td>\n",
              "      <td>NaN</td>\n",
              "      <td>NaN</td>\n",
              "      <td>NaN</td>\n",
              "      <td>NaN</td>\n",
              "      <td>NaN</td>\n",
              "      <td>NaN</td>\n",
              "      <td>NaN</td>\n",
              "      <td>NaN</td>\n",
              "    </tr>\n",
              "  </tbody>\n",
              "</table>\n",
              "<p>35845 rows × 136 columns</p>\n",
              "</div>\n",
              "      <button class=\"colab-df-convert\" onclick=\"convertToInteractive('df-539a22d4-4e1b-4b22-a2b1-836db276775b')\"\n",
              "              title=\"Convert this dataframe to an interactive table.\"\n",
              "              style=\"display:none;\">\n",
              "        \n",
              "  <svg xmlns=\"http://www.w3.org/2000/svg\" height=\"24px\"viewBox=\"0 0 24 24\"\n",
              "       width=\"24px\">\n",
              "    <path d=\"M0 0h24v24H0V0z\" fill=\"none\"/>\n",
              "    <path d=\"M18.56 5.44l.94 2.06.94-2.06 2.06-.94-2.06-.94-.94-2.06-.94 2.06-2.06.94zm-11 1L8.5 8.5l.94-2.06 2.06-.94-2.06-.94L8.5 2.5l-.94 2.06-2.06.94zm10 10l.94 2.06.94-2.06 2.06-.94-2.06-.94-.94-2.06-.94 2.06-2.06.94z\"/><path d=\"M17.41 7.96l-1.37-1.37c-.4-.4-.92-.59-1.43-.59-.52 0-1.04.2-1.43.59L10.3 9.45l-7.72 7.72c-.78.78-.78 2.05 0 2.83L4 21.41c.39.39.9.59 1.41.59.51 0 1.02-.2 1.41-.59l7.78-7.78 2.81-2.81c.8-.78.8-2.07 0-2.86zM5.41 20L4 18.59l7.72-7.72 1.47 1.35L5.41 20z\"/>\n",
              "  </svg>\n",
              "      </button>\n",
              "      \n",
              "  <style>\n",
              "    .colab-df-container {\n",
              "      display:flex;\n",
              "      flex-wrap:wrap;\n",
              "      gap: 12px;\n",
              "    }\n",
              "\n",
              "    .colab-df-convert {\n",
              "      background-color: #E8F0FE;\n",
              "      border: none;\n",
              "      border-radius: 50%;\n",
              "      cursor: pointer;\n",
              "      display: none;\n",
              "      fill: #1967D2;\n",
              "      height: 32px;\n",
              "      padding: 0 0 0 0;\n",
              "      width: 32px;\n",
              "    }\n",
              "\n",
              "    .colab-df-convert:hover {\n",
              "      background-color: #E2EBFA;\n",
              "      box-shadow: 0px 1px 2px rgba(60, 64, 67, 0.3), 0px 1px 3px 1px rgba(60, 64, 67, 0.15);\n",
              "      fill: #174EA6;\n",
              "    }\n",
              "\n",
              "    [theme=dark] .colab-df-convert {\n",
              "      background-color: #3B4455;\n",
              "      fill: #D2E3FC;\n",
              "    }\n",
              "\n",
              "    [theme=dark] .colab-df-convert:hover {\n",
              "      background-color: #434B5C;\n",
              "      box-shadow: 0px 1px 3px 1px rgba(0, 0, 0, 0.15);\n",
              "      filter: drop-shadow(0px 1px 2px rgba(0, 0, 0, 0.3));\n",
              "      fill: #FFFFFF;\n",
              "    }\n",
              "  </style>\n",
              "\n",
              "      <script>\n",
              "        const buttonEl =\n",
              "          document.querySelector('#df-539a22d4-4e1b-4b22-a2b1-836db276775b button.colab-df-convert');\n",
              "        buttonEl.style.display =\n",
              "          google.colab.kernel.accessAllowed ? 'block' : 'none';\n",
              "\n",
              "        async function convertToInteractive(key) {\n",
              "          const element = document.querySelector('#df-539a22d4-4e1b-4b22-a2b1-836db276775b');\n",
              "          const dataTable =\n",
              "            await google.colab.kernel.invokeFunction('convertToInteractive',\n",
              "                                                     [key], {});\n",
              "          if (!dataTable) return;\n",
              "\n",
              "          const docLinkHtml = 'Like what you see? Visit the ' +\n",
              "            '<a target=\"_blank\" href=https://colab.research.google.com/notebooks/data_table.ipynb>data table notebook</a>'\n",
              "            + ' to learn more about interactive tables.';\n",
              "          element.innerHTML = '';\n",
              "          dataTable['output_type'] = 'display_data';\n",
              "          await google.colab.output.renderOutput(dataTable, element);\n",
              "          const docLink = document.createElement('div');\n",
              "          docLink.innerHTML = docLinkHtml;\n",
              "          element.appendChild(docLink);\n",
              "        }\n",
              "      </script>\n",
              "    </div>\n",
              "  </div>\n",
              "  "
            ]
          },
          "metadata": {},
          "execution_count": 18
        }
      ]
    },
    {
      "cell_type": "code",
      "source": [
        "num_cols_players = [col for col in players_matrix.columns\n",
        "            if players_matrix[col].dtype in ['int64', 'float64']]\n",
        "\n",
        "cat_cols_players = [col for col in players_matrix.columns if\n",
        "            players_matrix[col].dtype == \"object\"]\n",
        "\n",
        "bool_cols_players = [col for col in players_matrix.columns if\n",
        "             players_matrix[col].dtype == 'bool']\n",
        "print(f'num_cols: {len(num_cols_players)}')\n",
        "print(f'cat_cols: {len(cat_cols_players)}')\n",
        "print(f'bool_cols: {len(bool_cols_players)}')\n",
        "assert len(num_cols_players) + len(cat_cols_players) + len(bool_cols_players) == players_matrix.shape[1]"
      ],
      "metadata": {
        "id": "IKMyUT-mfhJF",
        "colab": {
          "base_uri": "https://localhost:8080/"
        },
        "outputId": "1533ea09-e9fa-4484-eeac-a7f3bb0b2ab9"
      },
      "execution_count": 19,
      "outputs": [
        {
          "output_type": "stream",
          "name": "stdout",
          "text": [
            "num_cols: 78\n",
            "cat_cols: 55\n",
            "bool_cols: 3\n"
          ]
        }
      ]
    },
    {
      "cell_type": "code",
      "source": [
        "na_count = players_matrix[num_cols_players].isna().sum().sort_values(ascending=False)\n",
        "na_count"
      ],
      "metadata": {
        "colab": {
          "base_uri": "https://localhost:8080/"
        },
        "id": "7TgAbFzBl1WX",
        "outputId": "9895a203-3383-478f-a66b-0b19b7a0adf6"
      },
      "execution_count": 20,
      "outputs": [
        {
          "output_type": "execute_result",
          "data": {
            "text/plain": [
              "purchase_rapier           35842\n",
              "purchase_gem              35838\n",
              "purchase_ward_sentry      35701\n",
              "purchase_ward_observer    35681\n",
              "purchase_tpscroll         35659\n",
              "                          ...  \n",
              "start_time                    0\n",
              "duration                      0\n",
              "cluster                       0\n",
              "lobby_type                    0\n",
              "xp_per_min                    0\n",
              "Length: 78, dtype: int64"
            ]
          },
          "metadata": {},
          "execution_count": 20
        }
      ]
    },
    {
      "cell_type": "code",
      "source": [
        "num_cols_without_na = na_count[na_count <= players_matrix.shape[0] - 100].index"
      ],
      "metadata": {
        "id": "ZKedrHjEm64E"
      },
      "execution_count": 21,
      "outputs": []
    },
    {
      "cell_type": "code",
      "source": [
        "corr = players_matrix[num_cols_without_na].corr()['target'].sort_values(ascending=False)\n",
        "corr"
      ],
      "metadata": {
        "colab": {
          "base_uri": "https://localhost:8080/"
        },
        "id": "QPDDbtSknf8v",
        "outputId": "967ec58f-627b-4b51-9de9-2d65b2761ca8"
      },
      "execution_count": 22,
      "outputs": [
        {
          "output_type": "execute_result",
          "data": {
            "text/plain": [
              "target                1.000000\n",
              "tower_damage          0.399670\n",
              "kda                   0.382888\n",
              "towers_killed         0.329270\n",
              "tower_kills           0.267105\n",
              "                        ...   \n",
              "buyback_count        -0.068369\n",
              "leaver_status        -0.105042\n",
              "life_state_dead      -0.154737\n",
              "deaths               -0.285179\n",
              "necronomicon_kills         NaN\n",
              "Name: target, Length: 76, dtype: float64"
            ]
          },
          "metadata": {},
          "execution_count": 22
        }
      ]
    },
    {
      "cell_type": "code",
      "source": [
        "important_num_player_cols = corr[np.abs(corr).sort_values(ascending=False) >= 0.1].index[1:]\n",
        "important_num_player_cols # важные числовые признаки player "
      ],
      "metadata": {
        "colab": {
          "base_uri": "https://localhost:8080/"
        },
        "id": "01_NMI7In_p3",
        "outputId": "53f7f0fa-7394-4c3f-f8d3-89d9156fe791"
      },
      "execution_count": 23,
      "outputs": [
        {
          "output_type": "execute_result",
          "data": {
            "text/plain": [
              "Index(['tower_damage', 'kda', 'towers_killed', 'tower_kills', 'gold',\n",
              "       'kills_per_min', 'assists', 'kills', 'roshan_kills', 'net_worth',\n",
              "       'roshans_killed', 'hero_kills', 'gold_per_min', 'lane_efficiency_pct',\n",
              "       'rune_pickups', 'total_gold', 'courier_kills', 'gold_spent',\n",
              "       'actions_per_min', 'lane_kills', 'total_xp', 'purchase_tpscroll',\n",
              "       'xp_per_min', 'pings', 'camps_stacked', 'leaver_status',\n",
              "       'life_state_dead', 'deaths'],\n",
              "      dtype='object')"
            ]
          },
          "metadata": {},
          "execution_count": 23
        }
      ]
    },
    {
      "cell_type": "markdown",
      "source": [
        "## Создание X_train с важными числовыми признаками. Data augmentation"
      ],
      "metadata": {
        "id": "ojON6lAPoC8i"
      }
    },
    {
      "cell_type": "code",
      "source": [
        "X_dict = {}\n",
        "for k in tqdm(raw_data.keys()):\n",
        "    game = {}\n",
        "    reversed_game = {} # меняем команды местами\n",
        "    radiant_score, dire_score = important_num_game_cols\n",
        "    game[radiant_score] = raw_data[k][radiant_score]\n",
        "    game[dire_score] = raw_data[k][dire_score]\n",
        "    reversed_game[radiant_score] = game[dire_score]\n",
        "    reversed_game[dire_score] = game[radiant_score]\n",
        "\n",
        "    j, z = np.random.randint(5, 10, size=2) # будем свапать игроков из ондной группы в reversed_game\n",
        "    for i, player in enumerate(raw_data[k]['players']):\n",
        "        w = i\n",
        "        if i == j:\n",
        "            w = z\n",
        "        elif i == z:\n",
        "            w = j\n",
        "        for col in important_num_player_cols:\n",
        "            if col not in player:\n",
        "                game[f'{col}-{i}'] = None\n",
        "                reversed_game[f'{col}-{9 - w}'] = None\n",
        "            else:\n",
        "                game[f'{col}-{i}'] = player[col]\n",
        "                reversed_game[f'{col}-{9 - w}'] = player[col]\n",
        "    game['target'] = int(y.loc[k])\n",
        "    reversed_game['target'] = 1 - game['target']\n",
        "    X_dict[f'{k}-0'] = game\n",
        "    X_dict[f'{k}-1'] = reversed_game"
      ],
      "metadata": {
        "id": "6z7BfkzJw6YN",
        "colab": {
          "base_uri": "https://localhost:8080/"
        },
        "outputId": "46d4c902-ce38-41b1-92fc-da9787b5a12d"
      },
      "execution_count": 25,
      "outputs": [
        {
          "output_type": "stream",
          "name": "stderr",
          "text": [
            "100%|██████████| 8000/8000 [00:06<00:00, 1273.98it/s]\n"
          ]
        }
      ]
    },
    {
      "cell_type": "markdown",
      "source": [
        "Аугментированные данные необходимо перешивать"
      ],
      "metadata": {
        "id": "b1SpttdE6nLc"
      }
    },
    {
      "cell_type": "code",
      "source": [
        "from sklearn.utils import shuffle\n",
        "X = shuffle(pd.DataFrame.from_dict(X_dict, orient='index'))\n",
        "X"
      ],
      "metadata": {
        "colab": {
          "base_uri": "https://localhost:8080/",
          "height": 644
        },
        "id": "BsaxltVA0M1W",
        "outputId": "33d8d4e5-0ee9-4c74-81ba-119d20651172"
      },
      "execution_count": 27,
      "outputs": [
        {
          "output_type": "execute_result",
          "data": {
            "text/plain": [
              "         radiant_score  dire_score  tower_damage-0  kda-0  towers_killed-0  \\\n",
              "19208-1             61           0          6823.0    0.0              NaN   \n",
              "1267-0               0          32          5001.0    5.0              NaN   \n",
              "25363-0             53          64          3850.0    2.0              NaN   \n",
              "10896-1             50          10             0.0    2.0              NaN   \n",
              "14565-0             23          53           165.0    0.0              NaN   \n",
              "...                ...         ...             ...    ...              ...   \n",
              "1712-0              43          26           486.0    3.0              NaN   \n",
              "15532-0             34           0           539.0    0.0              NaN   \n",
              "14743-1             20          56             0.0    0.0              NaN   \n",
              "20820-0              5          58           817.0    0.0              NaN   \n",
              "18770-0             22           0           715.0    0.0              NaN   \n",
              "\n",
              "         tower_kills-0  gold-0  kills_per_min-0  assists-0  kills-0  ...  \\\n",
              "19208-1            NaN  5264.0         0.038032       14.0      0.0  ...   \n",
              "1267-0             NaN  1663.0         0.355030       11.0     12.0  ...   \n",
              "25363-0            NaN  4223.0         0.270270       22.0      9.0  ...   \n",
              "10896-1            NaN  3906.0         0.206508       13.0     11.0  ...   \n",
              "14565-0            NaN   375.0         0.083449       11.0      3.0  ...   \n",
              "...                ...     ...              ...        ...      ...  ...   \n",
              "1712-0             NaN   883.0         0.263833        9.0      0.0  ...   \n",
              "15532-0            NaN   339.0         0.002983        0.0      3.0  ...   \n",
              "14743-1            NaN     0.0         0.207678       10.0     11.0  ...   \n",
              "20820-0            NaN   448.0         0.310766       13.0     14.0  ...   \n",
              "18770-0            NaN  -415.0         0.238253        6.0      6.0  ...   \n",
              "\n",
              "         lane_kills-9  total_xp-9  purchase_tpscroll-9  xp_per_min-9  pings-9  \\\n",
              "19208-1           NaN      1972.0                  NaN        -155.0      NaN   \n",
              "1267-0            NaN     16224.0                  NaN         480.0      NaN   \n",
              "25363-0           NaN      5418.0                  NaN           0.0      NaN   \n",
              "10896-1           NaN     22882.0                  NaN         674.0      NaN   \n",
              "14565-0           NaN      4569.0                  NaN         757.0      NaN   \n",
              "...               ...         ...                  ...           ...      ...   \n",
              "1712-0            NaN     26649.0                  NaN         781.0      NaN   \n",
              "15532-0           NaN     44352.0                  NaN        1584.0      NaN   \n",
              "14743-1           NaN      4637.0                  NaN         878.0      NaN   \n",
              "20820-0           NaN     35679.0                  NaN           0.0      NaN   \n",
              "18770-0           NaN     59583.0                  NaN        2366.0      NaN   \n",
              "\n",
              "         camps_stacked-9  leaver_status-9  life_state_dead-9  deaths-9  target  \n",
              "19208-1              NaN              0.0                NaN      14.0       0  \n",
              "1267-0               NaN              0.0                NaN      12.0       1  \n",
              "25363-0              NaN              0.0                NaN       5.0       0  \n",
              "10896-1              NaN              0.0                NaN      13.0       1  \n",
              "14565-0              NaN              0.0                NaN       6.0       0  \n",
              "...                  ...              ...                ...       ...     ...  \n",
              "1712-0               NaN              0.0                NaN      11.0       1  \n",
              "15532-0              NaN              0.0                NaN       5.0       0  \n",
              "14743-1              NaN              0.0                NaN       7.0       0  \n",
              "20820-0              NaN              0.0                NaN      10.0       0  \n",
              "18770-0              NaN              0.0                NaN       3.0       0  \n",
              "\n",
              "[16000 rows x 283 columns]"
            ],
            "text/html": [
              "\n",
              "  <div id=\"df-04012889-cf93-43b6-96e0-9de856f18ef1\">\n",
              "    <div class=\"colab-df-container\">\n",
              "      <div>\n",
              "<style scoped>\n",
              "    .dataframe tbody tr th:only-of-type {\n",
              "        vertical-align: middle;\n",
              "    }\n",
              "\n",
              "    .dataframe tbody tr th {\n",
              "        vertical-align: top;\n",
              "    }\n",
              "\n",
              "    .dataframe thead th {\n",
              "        text-align: right;\n",
              "    }\n",
              "</style>\n",
              "<table border=\"1\" class=\"dataframe\">\n",
              "  <thead>\n",
              "    <tr style=\"text-align: right;\">\n",
              "      <th></th>\n",
              "      <th>radiant_score</th>\n",
              "      <th>dire_score</th>\n",
              "      <th>tower_damage-0</th>\n",
              "      <th>kda-0</th>\n",
              "      <th>towers_killed-0</th>\n",
              "      <th>tower_kills-0</th>\n",
              "      <th>gold-0</th>\n",
              "      <th>kills_per_min-0</th>\n",
              "      <th>assists-0</th>\n",
              "      <th>kills-0</th>\n",
              "      <th>...</th>\n",
              "      <th>lane_kills-9</th>\n",
              "      <th>total_xp-9</th>\n",
              "      <th>purchase_tpscroll-9</th>\n",
              "      <th>xp_per_min-9</th>\n",
              "      <th>pings-9</th>\n",
              "      <th>camps_stacked-9</th>\n",
              "      <th>leaver_status-9</th>\n",
              "      <th>life_state_dead-9</th>\n",
              "      <th>deaths-9</th>\n",
              "      <th>target</th>\n",
              "    </tr>\n",
              "  </thead>\n",
              "  <tbody>\n",
              "    <tr>\n",
              "      <th>19208-1</th>\n",
              "      <td>61</td>\n",
              "      <td>0</td>\n",
              "      <td>6823.0</td>\n",
              "      <td>0.0</td>\n",
              "      <td>NaN</td>\n",
              "      <td>NaN</td>\n",
              "      <td>5264.0</td>\n",
              "      <td>0.038032</td>\n",
              "      <td>14.0</td>\n",
              "      <td>0.0</td>\n",
              "      <td>...</td>\n",
              "      <td>NaN</td>\n",
              "      <td>1972.0</td>\n",
              "      <td>NaN</td>\n",
              "      <td>-155.0</td>\n",
              "      <td>NaN</td>\n",
              "      <td>NaN</td>\n",
              "      <td>0.0</td>\n",
              "      <td>NaN</td>\n",
              "      <td>14.0</td>\n",
              "      <td>0</td>\n",
              "    </tr>\n",
              "    <tr>\n",
              "      <th>1267-0</th>\n",
              "      <td>0</td>\n",
              "      <td>32</td>\n",
              "      <td>5001.0</td>\n",
              "      <td>5.0</td>\n",
              "      <td>NaN</td>\n",
              "      <td>NaN</td>\n",
              "      <td>1663.0</td>\n",
              "      <td>0.355030</td>\n",
              "      <td>11.0</td>\n",
              "      <td>12.0</td>\n",
              "      <td>...</td>\n",
              "      <td>NaN</td>\n",
              "      <td>16224.0</td>\n",
              "      <td>NaN</td>\n",
              "      <td>480.0</td>\n",
              "      <td>NaN</td>\n",
              "      <td>NaN</td>\n",
              "      <td>0.0</td>\n",
              "      <td>NaN</td>\n",
              "      <td>12.0</td>\n",
              "      <td>1</td>\n",
              "    </tr>\n",
              "    <tr>\n",
              "      <th>25363-0</th>\n",
              "      <td>53</td>\n",
              "      <td>64</td>\n",
              "      <td>3850.0</td>\n",
              "      <td>2.0</td>\n",
              "      <td>NaN</td>\n",
              "      <td>NaN</td>\n",
              "      <td>4223.0</td>\n",
              "      <td>0.270270</td>\n",
              "      <td>22.0</td>\n",
              "      <td>9.0</td>\n",
              "      <td>...</td>\n",
              "      <td>NaN</td>\n",
              "      <td>5418.0</td>\n",
              "      <td>NaN</td>\n",
              "      <td>0.0</td>\n",
              "      <td>NaN</td>\n",
              "      <td>NaN</td>\n",
              "      <td>0.0</td>\n",
              "      <td>NaN</td>\n",
              "      <td>5.0</td>\n",
              "      <td>0</td>\n",
              "    </tr>\n",
              "    <tr>\n",
              "      <th>10896-1</th>\n",
              "      <td>50</td>\n",
              "      <td>10</td>\n",
              "      <td>0.0</td>\n",
              "      <td>2.0</td>\n",
              "      <td>NaN</td>\n",
              "      <td>NaN</td>\n",
              "      <td>3906.0</td>\n",
              "      <td>0.206508</td>\n",
              "      <td>13.0</td>\n",
              "      <td>11.0</td>\n",
              "      <td>...</td>\n",
              "      <td>NaN</td>\n",
              "      <td>22882.0</td>\n",
              "      <td>NaN</td>\n",
              "      <td>674.0</td>\n",
              "      <td>NaN</td>\n",
              "      <td>NaN</td>\n",
              "      <td>0.0</td>\n",
              "      <td>NaN</td>\n",
              "      <td>13.0</td>\n",
              "      <td>1</td>\n",
              "    </tr>\n",
              "    <tr>\n",
              "      <th>14565-0</th>\n",
              "      <td>23</td>\n",
              "      <td>53</td>\n",
              "      <td>165.0</td>\n",
              "      <td>0.0</td>\n",
              "      <td>NaN</td>\n",
              "      <td>NaN</td>\n",
              "      <td>375.0</td>\n",
              "      <td>0.083449</td>\n",
              "      <td>11.0</td>\n",
              "      <td>3.0</td>\n",
              "      <td>...</td>\n",
              "      <td>NaN</td>\n",
              "      <td>4569.0</td>\n",
              "      <td>NaN</td>\n",
              "      <td>757.0</td>\n",
              "      <td>NaN</td>\n",
              "      <td>NaN</td>\n",
              "      <td>0.0</td>\n",
              "      <td>NaN</td>\n",
              "      <td>6.0</td>\n",
              "      <td>0</td>\n",
              "    </tr>\n",
              "    <tr>\n",
              "      <th>...</th>\n",
              "      <td>...</td>\n",
              "      <td>...</td>\n",
              "      <td>...</td>\n",
              "      <td>...</td>\n",
              "      <td>...</td>\n",
              "      <td>...</td>\n",
              "      <td>...</td>\n",
              "      <td>...</td>\n",
              "      <td>...</td>\n",
              "      <td>...</td>\n",
              "      <td>...</td>\n",
              "      <td>...</td>\n",
              "      <td>...</td>\n",
              "      <td>...</td>\n",
              "      <td>...</td>\n",
              "      <td>...</td>\n",
              "      <td>...</td>\n",
              "      <td>...</td>\n",
              "      <td>...</td>\n",
              "      <td>...</td>\n",
              "      <td>...</td>\n",
              "    </tr>\n",
              "    <tr>\n",
              "      <th>1712-0</th>\n",
              "      <td>43</td>\n",
              "      <td>26</td>\n",
              "      <td>486.0</td>\n",
              "      <td>3.0</td>\n",
              "      <td>NaN</td>\n",
              "      <td>NaN</td>\n",
              "      <td>883.0</td>\n",
              "      <td>0.263833</td>\n",
              "      <td>9.0</td>\n",
              "      <td>0.0</td>\n",
              "      <td>...</td>\n",
              "      <td>NaN</td>\n",
              "      <td>26649.0</td>\n",
              "      <td>NaN</td>\n",
              "      <td>781.0</td>\n",
              "      <td>NaN</td>\n",
              "      <td>NaN</td>\n",
              "      <td>0.0</td>\n",
              "      <td>NaN</td>\n",
              "      <td>11.0</td>\n",
              "      <td>1</td>\n",
              "    </tr>\n",
              "    <tr>\n",
              "      <th>15532-0</th>\n",
              "      <td>34</td>\n",
              "      <td>0</td>\n",
              "      <td>539.0</td>\n",
              "      <td>0.0</td>\n",
              "      <td>NaN</td>\n",
              "      <td>NaN</td>\n",
              "      <td>339.0</td>\n",
              "      <td>0.002983</td>\n",
              "      <td>0.0</td>\n",
              "      <td>3.0</td>\n",
              "      <td>...</td>\n",
              "      <td>NaN</td>\n",
              "      <td>44352.0</td>\n",
              "      <td>NaN</td>\n",
              "      <td>1584.0</td>\n",
              "      <td>NaN</td>\n",
              "      <td>NaN</td>\n",
              "      <td>0.0</td>\n",
              "      <td>NaN</td>\n",
              "      <td>5.0</td>\n",
              "      <td>0</td>\n",
              "    </tr>\n",
              "    <tr>\n",
              "      <th>14743-1</th>\n",
              "      <td>20</td>\n",
              "      <td>56</td>\n",
              "      <td>0.0</td>\n",
              "      <td>0.0</td>\n",
              "      <td>NaN</td>\n",
              "      <td>NaN</td>\n",
              "      <td>0.0</td>\n",
              "      <td>0.207678</td>\n",
              "      <td>10.0</td>\n",
              "      <td>11.0</td>\n",
              "      <td>...</td>\n",
              "      <td>NaN</td>\n",
              "      <td>4637.0</td>\n",
              "      <td>NaN</td>\n",
              "      <td>878.0</td>\n",
              "      <td>NaN</td>\n",
              "      <td>NaN</td>\n",
              "      <td>0.0</td>\n",
              "      <td>NaN</td>\n",
              "      <td>7.0</td>\n",
              "      <td>0</td>\n",
              "    </tr>\n",
              "    <tr>\n",
              "      <th>20820-0</th>\n",
              "      <td>5</td>\n",
              "      <td>58</td>\n",
              "      <td>817.0</td>\n",
              "      <td>0.0</td>\n",
              "      <td>NaN</td>\n",
              "      <td>NaN</td>\n",
              "      <td>448.0</td>\n",
              "      <td>0.310766</td>\n",
              "      <td>13.0</td>\n",
              "      <td>14.0</td>\n",
              "      <td>...</td>\n",
              "      <td>NaN</td>\n",
              "      <td>35679.0</td>\n",
              "      <td>NaN</td>\n",
              "      <td>0.0</td>\n",
              "      <td>NaN</td>\n",
              "      <td>NaN</td>\n",
              "      <td>0.0</td>\n",
              "      <td>NaN</td>\n",
              "      <td>10.0</td>\n",
              "      <td>0</td>\n",
              "    </tr>\n",
              "    <tr>\n",
              "      <th>18770-0</th>\n",
              "      <td>22</td>\n",
              "      <td>0</td>\n",
              "      <td>715.0</td>\n",
              "      <td>0.0</td>\n",
              "      <td>NaN</td>\n",
              "      <td>NaN</td>\n",
              "      <td>-415.0</td>\n",
              "      <td>0.238253</td>\n",
              "      <td>6.0</td>\n",
              "      <td>6.0</td>\n",
              "      <td>...</td>\n",
              "      <td>NaN</td>\n",
              "      <td>59583.0</td>\n",
              "      <td>NaN</td>\n",
              "      <td>2366.0</td>\n",
              "      <td>NaN</td>\n",
              "      <td>NaN</td>\n",
              "      <td>0.0</td>\n",
              "      <td>NaN</td>\n",
              "      <td>3.0</td>\n",
              "      <td>0</td>\n",
              "    </tr>\n",
              "  </tbody>\n",
              "</table>\n",
              "<p>16000 rows × 283 columns</p>\n",
              "</div>\n",
              "      <button class=\"colab-df-convert\" onclick=\"convertToInteractive('df-04012889-cf93-43b6-96e0-9de856f18ef1')\"\n",
              "              title=\"Convert this dataframe to an interactive table.\"\n",
              "              style=\"display:none;\">\n",
              "        \n",
              "  <svg xmlns=\"http://www.w3.org/2000/svg\" height=\"24px\"viewBox=\"0 0 24 24\"\n",
              "       width=\"24px\">\n",
              "    <path d=\"M0 0h24v24H0V0z\" fill=\"none\"/>\n",
              "    <path d=\"M18.56 5.44l.94 2.06.94-2.06 2.06-.94-2.06-.94-.94-2.06-.94 2.06-2.06.94zm-11 1L8.5 8.5l.94-2.06 2.06-.94-2.06-.94L8.5 2.5l-.94 2.06-2.06.94zm10 10l.94 2.06.94-2.06 2.06-.94-2.06-.94-.94-2.06-.94 2.06-2.06.94z\"/><path d=\"M17.41 7.96l-1.37-1.37c-.4-.4-.92-.59-1.43-.59-.52 0-1.04.2-1.43.59L10.3 9.45l-7.72 7.72c-.78.78-.78 2.05 0 2.83L4 21.41c.39.39.9.59 1.41.59.51 0 1.02-.2 1.41-.59l7.78-7.78 2.81-2.81c.8-.78.8-2.07 0-2.86zM5.41 20L4 18.59l7.72-7.72 1.47 1.35L5.41 20z\"/>\n",
              "  </svg>\n",
              "      </button>\n",
              "      \n",
              "  <style>\n",
              "    .colab-df-container {\n",
              "      display:flex;\n",
              "      flex-wrap:wrap;\n",
              "      gap: 12px;\n",
              "    }\n",
              "\n",
              "    .colab-df-convert {\n",
              "      background-color: #E8F0FE;\n",
              "      border: none;\n",
              "      border-radius: 50%;\n",
              "      cursor: pointer;\n",
              "      display: none;\n",
              "      fill: #1967D2;\n",
              "      height: 32px;\n",
              "      padding: 0 0 0 0;\n",
              "      width: 32px;\n",
              "    }\n",
              "\n",
              "    .colab-df-convert:hover {\n",
              "      background-color: #E2EBFA;\n",
              "      box-shadow: 0px 1px 2px rgba(60, 64, 67, 0.3), 0px 1px 3px 1px rgba(60, 64, 67, 0.15);\n",
              "      fill: #174EA6;\n",
              "    }\n",
              "\n",
              "    [theme=dark] .colab-df-convert {\n",
              "      background-color: #3B4455;\n",
              "      fill: #D2E3FC;\n",
              "    }\n",
              "\n",
              "    [theme=dark] .colab-df-convert:hover {\n",
              "      background-color: #434B5C;\n",
              "      box-shadow: 0px 1px 3px 1px rgba(0, 0, 0, 0.15);\n",
              "      filter: drop-shadow(0px 1px 2px rgba(0, 0, 0, 0.3));\n",
              "      fill: #FFFFFF;\n",
              "    }\n",
              "  </style>\n",
              "\n",
              "      <script>\n",
              "        const buttonEl =\n",
              "          document.querySelector('#df-04012889-cf93-43b6-96e0-9de856f18ef1 button.colab-df-convert');\n",
              "        buttonEl.style.display =\n",
              "          google.colab.kernel.accessAllowed ? 'block' : 'none';\n",
              "\n",
              "        async function convertToInteractive(key) {\n",
              "          const element = document.querySelector('#df-04012889-cf93-43b6-96e0-9de856f18ef1');\n",
              "          const dataTable =\n",
              "            await google.colab.kernel.invokeFunction('convertToInteractive',\n",
              "                                                     [key], {});\n",
              "          if (!dataTable) return;\n",
              "\n",
              "          const docLinkHtml = 'Like what you see? Visit the ' +\n",
              "            '<a target=\"_blank\" href=https://colab.research.google.com/notebooks/data_table.ipynb>data table notebook</a>'\n",
              "            + ' to learn more about interactive tables.';\n",
              "          element.innerHTML = '';\n",
              "          dataTable['output_type'] = 'display_data';\n",
              "          await google.colab.output.renderOutput(dataTable, element);\n",
              "          const docLink = document.createElement('div');\n",
              "          docLink.innerHTML = docLinkHtml;\n",
              "          element.appendChild(docLink);\n",
              "        }\n",
              "      </script>\n",
              "    </div>\n",
              "  </div>\n",
              "  "
            ]
          },
          "metadata": {},
          "execution_count": 27
        }
      ]
    },
    {
      "cell_type": "code",
      "source": [
        "X_train = X[X.columns[:-1]]\n",
        "y_train = X['target']"
      ],
      "metadata": {
        "id": "ENIBmgrS1Kk-"
      },
      "execution_count": 28,
      "outputs": []
    },
    {
      "cell_type": "markdown",
      "source": [
        "## Создание пайплайна и кросс валидация"
      ],
      "metadata": {
        "id": "ePisF09coScM"
      }
    },
    {
      "cell_type": "code",
      "source": [
        "from sklearn.impute import SimpleImputer\n",
        "from sklearn.ensemble import GradientBoostingClassifier\n",
        "from sklearn.pipeline import Pipeline\n",
        "from sklearn.compose import ColumnTransformer\n",
        "\n",
        "model = GradientBoostingClassifier(random_state=0)\n",
        "num_transformer = SimpleImputer(strategy=\"median\")\n",
        "\n",
        "\n",
        "# preprocessor = ColumnTransformer(transformers=[\n",
        "#     ('numeric', num_transformer)\n",
        "# ])\n",
        "\n",
        "my_pipeline = Pipeline(steps=[\n",
        "    ('preprocessor', num_transformer),\n",
        "    ('model', model)\n",
        "])\n",
        "my_pipeline"
      ],
      "metadata": {
        "id": "BM_9Qe8J20HH",
        "colab": {
          "base_uri": "https://localhost:8080/",
          "height": 125
        },
        "outputId": "5b637a04-dd13-4c0c-fa7b-66b9594e98e6"
      },
      "execution_count": 80,
      "outputs": [
        {
          "output_type": "execute_result",
          "data": {
            "text/plain": [
              "Pipeline(steps=[('preprocessor', SimpleImputer(strategy='median')),\n",
              "                ('model', GradientBoostingClassifier(random_state=0))])"
            ],
            "text/html": [
              "<style>#sk-container-id-3 {color: black;background-color: white;}#sk-container-id-3 pre{padding: 0;}#sk-container-id-3 div.sk-toggleable {background-color: white;}#sk-container-id-3 label.sk-toggleable__label {cursor: pointer;display: block;width: 100%;margin-bottom: 0;padding: 0.3em;box-sizing: border-box;text-align: center;}#sk-container-id-3 label.sk-toggleable__label-arrow:before {content: \"▸\";float: left;margin-right: 0.25em;color: #696969;}#sk-container-id-3 label.sk-toggleable__label-arrow:hover:before {color: black;}#sk-container-id-3 div.sk-estimator:hover label.sk-toggleable__label-arrow:before {color: black;}#sk-container-id-3 div.sk-toggleable__content {max-height: 0;max-width: 0;overflow: hidden;text-align: left;background-color: #f0f8ff;}#sk-container-id-3 div.sk-toggleable__content pre {margin: 0.2em;color: black;border-radius: 0.25em;background-color: #f0f8ff;}#sk-container-id-3 input.sk-toggleable__control:checked~div.sk-toggleable__content {max-height: 200px;max-width: 100%;overflow: auto;}#sk-container-id-3 input.sk-toggleable__control:checked~label.sk-toggleable__label-arrow:before {content: \"▾\";}#sk-container-id-3 div.sk-estimator input.sk-toggleable__control:checked~label.sk-toggleable__label {background-color: #d4ebff;}#sk-container-id-3 div.sk-label input.sk-toggleable__control:checked~label.sk-toggleable__label {background-color: #d4ebff;}#sk-container-id-3 input.sk-hidden--visually {border: 0;clip: rect(1px 1px 1px 1px);clip: rect(1px, 1px, 1px, 1px);height: 1px;margin: -1px;overflow: hidden;padding: 0;position: absolute;width: 1px;}#sk-container-id-3 div.sk-estimator {font-family: monospace;background-color: #f0f8ff;border: 1px dotted black;border-radius: 0.25em;box-sizing: border-box;margin-bottom: 0.5em;}#sk-container-id-3 div.sk-estimator:hover {background-color: #d4ebff;}#sk-container-id-3 div.sk-parallel-item::after {content: \"\";width: 100%;border-bottom: 1px solid gray;flex-grow: 1;}#sk-container-id-3 div.sk-label:hover label.sk-toggleable__label {background-color: #d4ebff;}#sk-container-id-3 div.sk-serial::before {content: \"\";position: absolute;border-left: 1px solid gray;box-sizing: border-box;top: 0;bottom: 0;left: 50%;z-index: 0;}#sk-container-id-3 div.sk-serial {display: flex;flex-direction: column;align-items: center;background-color: white;padding-right: 0.2em;padding-left: 0.2em;position: relative;}#sk-container-id-3 div.sk-item {position: relative;z-index: 1;}#sk-container-id-3 div.sk-parallel {display: flex;align-items: stretch;justify-content: center;background-color: white;position: relative;}#sk-container-id-3 div.sk-item::before, #sk-container-id-3 div.sk-parallel-item::before {content: \"\";position: absolute;border-left: 1px solid gray;box-sizing: border-box;top: 0;bottom: 0;left: 50%;z-index: -1;}#sk-container-id-3 div.sk-parallel-item {display: flex;flex-direction: column;z-index: 1;position: relative;background-color: white;}#sk-container-id-3 div.sk-parallel-item:first-child::after {align-self: flex-end;width: 50%;}#sk-container-id-3 div.sk-parallel-item:last-child::after {align-self: flex-start;width: 50%;}#sk-container-id-3 div.sk-parallel-item:only-child::after {width: 0;}#sk-container-id-3 div.sk-dashed-wrapped {border: 1px dashed gray;margin: 0 0.4em 0.5em 0.4em;box-sizing: border-box;padding-bottom: 0.4em;background-color: white;}#sk-container-id-3 div.sk-label label {font-family: monospace;font-weight: bold;display: inline-block;line-height: 1.2em;}#sk-container-id-3 div.sk-label-container {text-align: center;}#sk-container-id-3 div.sk-container {/* jupyter's `normalize.less` sets `[hidden] { display: none; }` but bootstrap.min.css set `[hidden] { display: none !important; }` so we also need the `!important` here to be able to override the default hidden behavior on the sphinx rendered scikit-learn.org. See: https://github.com/scikit-learn/scikit-learn/issues/21755 */display: inline-block !important;position: relative;}#sk-container-id-3 div.sk-text-repr-fallback {display: none;}</style><div id=\"sk-container-id-3\" class=\"sk-top-container\"><div class=\"sk-text-repr-fallback\"><pre>Pipeline(steps=[(&#x27;preprocessor&#x27;, SimpleImputer(strategy=&#x27;median&#x27;)),\n",
              "                (&#x27;model&#x27;, GradientBoostingClassifier(random_state=0))])</pre><b>In a Jupyter environment, please rerun this cell to show the HTML representation or trust the notebook. <br />On GitHub, the HTML representation is unable to render, please try loading this page with nbviewer.org.</b></div><div class=\"sk-container\" hidden><div class=\"sk-item sk-dashed-wrapped\"><div class=\"sk-label-container\"><div class=\"sk-label sk-toggleable\"><input class=\"sk-toggleable__control sk-hidden--visually\" id=\"sk-estimator-id-7\" type=\"checkbox\" ><label for=\"sk-estimator-id-7\" class=\"sk-toggleable__label sk-toggleable__label-arrow\">Pipeline</label><div class=\"sk-toggleable__content\"><pre>Pipeline(steps=[(&#x27;preprocessor&#x27;, SimpleImputer(strategy=&#x27;median&#x27;)),\n",
              "                (&#x27;model&#x27;, GradientBoostingClassifier(random_state=0))])</pre></div></div></div><div class=\"sk-serial\"><div class=\"sk-item\"><div class=\"sk-estimator sk-toggleable\"><input class=\"sk-toggleable__control sk-hidden--visually\" id=\"sk-estimator-id-8\" type=\"checkbox\" ><label for=\"sk-estimator-id-8\" class=\"sk-toggleable__label sk-toggleable__label-arrow\">SimpleImputer</label><div class=\"sk-toggleable__content\"><pre>SimpleImputer(strategy=&#x27;median&#x27;)</pre></div></div></div><div class=\"sk-item\"><div class=\"sk-estimator sk-toggleable\"><input class=\"sk-toggleable__control sk-hidden--visually\" id=\"sk-estimator-id-9\" type=\"checkbox\" ><label for=\"sk-estimator-id-9\" class=\"sk-toggleable__label sk-toggleable__label-arrow\">GradientBoostingClassifier</label><div class=\"sk-toggleable__content\"><pre>GradientBoostingClassifier(random_state=0)</pre></div></div></div></div></div></div></div>"
            ]
          },
          "metadata": {},
          "execution_count": 80
        }
      ]
    },
    {
      "cell_type": "code",
      "source": [
        "cross_val_score(my_pipeline, X_train, y_train, scoring='f1')"
      ],
      "metadata": {
        "colab": {
          "base_uri": "https://localhost:8080/"
        },
        "id": "0D7XVYhytkbJ",
        "outputId": "1a709dc1-9363-4c5f-b58a-ff0595ba17ed"
      },
      "execution_count": 30,
      "outputs": [
        {
          "output_type": "execute_result",
          "data": {
            "text/plain": [
              "array([0.95554865, 0.96671851, 0.95589615, 0.95673981, 0.96142992])"
            ]
          },
          "metadata": {},
          "execution_count": 30
        }
      ]
    },
    {
      "cell_type": "code",
      "source": [
        "cross_val_score(my_pipeline, X_train, y_train, scoring='f1')"
      ],
      "metadata": {
        "colab": {
          "base_uri": "https://localhost:8080/"
        },
        "id": "PYvhsasc7PRo",
        "outputId": "d4c615a6-fd75-4e6c-9aa1-a666e710e91d"
      },
      "execution_count": 94,
      "outputs": [
        {
          "output_type": "execute_result",
          "data": {
            "text/plain": [
              "array([0.95893872, 0.96340319, 0.95532646, 0.95587321, 0.96270976])"
            ]
          },
          "metadata": {},
          "execution_count": 94
        }
      ]
    },
    {
      "cell_type": "code",
      "source": [
        "cross_val_score(my_pipeline, X_train, y_train, scoring='f1')"
      ],
      "metadata": {
        "colab": {
          "base_uri": "https://localhost:8080/"
        },
        "id": "hxl618wm20Nj",
        "outputId": "283d8d91-6a23-408b-9961-e8dbdaab475e"
      },
      "execution_count": null,
      "outputs": [
        {
          "output_type": "execute_result",
          "data": {
            "text/plain": [
              "array([0.98175182, 0.9848393 , 0.97949337, 0.97652017, 0.79281902])"
            ]
          },
          "metadata": {},
          "execution_count": 222
        }
      ]
    },
    {
      "cell_type": "markdown",
      "source": [
        "## Подготовка тестовых данных"
      ],
      "metadata": {
        "id": "BThSKtrcobMM"
      }
    },
    {
      "cell_type": "code",
      "source": [
        "raw_test_data = {}\n",
        "for _, _, files in os.walk('public_data'):\n",
        "    for file in files:\n",
        "        with open(f'public_data/{file}', 'r', encoding='utf-8') as inp:\n",
        "            raw_test_data[int(file.split('.')[0])] = json.load(inp)"
      ],
      "metadata": {
        "id": "FYbawvrN68SU"
      },
      "execution_count": 31,
      "outputs": []
    },
    {
      "cell_type": "code",
      "source": [
        "X_test_dict = {}\n",
        "for k in tqdm(raw_test_data.keys()):\n",
        "    game = {}\n",
        "    reversed_game = {}\n",
        "    radiant_score, dire_score = important_num_game_cols\n",
        "    game[radiant_score] = raw_test_data[k][radiant_score]\n",
        "    game[dire_score] = raw_test_data[k][dire_score]\n",
        "    reversed_game[radiant_score] = game[dire_score]\n",
        "    reversed_game[dire_score] = game[radiant_score]\n",
        "    for i, player in enumerate(raw_test_data[k]['players']):\n",
        "        for col in important_num_player_cols:\n",
        "            if col not in player:\n",
        "                game[f'{col}-{i}'] = None\n",
        "                reversed_game[f'{col}-{9 - i}'] = None\n",
        "            else:\n",
        "                game[f'{col}-{i}'] = player[col]\n",
        "                reversed_game[f'{col}-{9 - i}'] = player[col]\n",
        "    X_test_dict[f'{k}-0'] = game\n",
        "    X_test_dict[f'{k}-1'] = reversed_game"
      ],
      "metadata": {
        "id": "qY4EaCKx8Nym",
        "colab": {
          "base_uri": "https://localhost:8080/"
        },
        "outputId": "9ca8a63b-a5e9-4d09-e24c-eba7e144ccf1"
      },
      "execution_count": 32,
      "outputs": [
        {
          "output_type": "stream",
          "name": "stderr",
          "text": [
            "100%|██████████| 1000/1000 [00:00<00:00, 1688.12it/s]\n"
          ]
        }
      ]
    },
    {
      "cell_type": "code",
      "source": [
        "X_test = pd.DataFrame.from_dict(X_test_dict, orient='index')\n",
        "X_test"
      ],
      "metadata": {
        "colab": {
          "base_uri": "https://localhost:8080/",
          "height": 591
        },
        "id": "0UmUH4XJ7x5e",
        "outputId": "58a4597e-4a95-44c7-c963-88db7366a256"
      },
      "execution_count": 33,
      "outputs": [
        {
          "output_type": "execute_result",
          "data": {
            "text/plain": [
              "         radiant_score  dire_score  tower_damage-0  kda-0  towers_killed-0  \\\n",
              "10013-0             46          55            2142      2              NaN   \n",
              "10013-1             55          46           24183      3              NaN   \n",
              "10020-0             58          55             648      3              NaN   \n",
              "10020-1             55          58            4283      2              NaN   \n",
              "10037-0             17          47              25      0              NaN   \n",
              "...                ...         ...             ...    ...              ...   \n",
              "9862-1              20          60              20      0              NaN   \n",
              "9866-0              39          24            4682      6              NaN   \n",
              "9866-1              24          39             101      1              NaN   \n",
              "9924-0              23          57               0      0              NaN   \n",
              "9924-1              57          23            8225      2              NaN   \n",
              "\n",
              "         tower_kills-0  gold-0  kills_per_min-0  assists-0  kills-0  ...  \\\n",
              "10013-0            NaN     476         0.185886         13        9  ...   \n",
              "10013-1            NaN    1645         0.309811         12       15  ...   \n",
              "10020-0            NaN    1049         0.225950         27       11  ...   \n",
              "10020-1            NaN    1035         0.328655         13       16  ...   \n",
              "10037-0            NaN     297         0.076142          7        2  ...   \n",
              "...                ...     ...              ...        ...      ...  ...   \n",
              "9862-1             NaN     900              NaN          9        0  ...   \n",
              "9866-0             NaN    2326         0.053500         23        2  ...   \n",
              "9866-1             NaN    2340         0.053500         14        2  ...   \n",
              "9924-0             NaN    1342         0.054770          6        2  ...   \n",
              "9924-1             NaN    2238         0.246463         12        9  ...   \n",
              "\n",
              "         actions_per_min-9  lane_kills-9  total_xp-9  purchase_tpscroll-9  \\\n",
              "10013-0                NaN           NaN       43187                  NaN   \n",
              "10013-1                NaN           NaN       33649                  NaN   \n",
              "10020-0                NaN           NaN       45129                  NaN   \n",
              "10020-1                NaN           NaN       37486                  NaN   \n",
              "10037-0                NaN           NaN       45257                  NaN   \n",
              "...                    ...           ...         ...                  ...   \n",
              "9862-1                 NaN           NaN       22908                  NaN   \n",
              "9866-0                 NaN           NaN       11028                  NaN   \n",
              "9866-1                 NaN           NaN       23065                  NaN   \n",
              "9924-0                 NaN           NaN       34471                  NaN   \n",
              "9924-1                 NaN           NaN       15373                  NaN   \n",
              "\n",
              "         xp_per_min-9  pings-9  camps_stacked-9  leaver_status-9  \\\n",
              "10013-0           892      NaN              NaN                0   \n",
              "10013-1           695      NaN              NaN                0   \n",
              "10020-0           927      NaN              NaN                0   \n",
              "10020-1           770      NaN              NaN                0   \n",
              "10037-0          1723      NaN              NaN                0   \n",
              "...               ...      ...              ...              ...   \n",
              "9862-1            645      NaN              NaN                0   \n",
              "9866-0            295      NaN              NaN                0   \n",
              "9866-1            617      NaN              NaN                0   \n",
              "9924-0            944      NaN              NaN                0   \n",
              "9924-1            421      NaN              NaN                0   \n",
              "\n",
              "         life_state_dead-9  deaths-9  \n",
              "10013-0                NaN         6  \n",
              "10013-1                NaN        10  \n",
              "10020-0                NaN        13  \n",
              "10020-1                NaN        10  \n",
              "10037-0                NaN         2  \n",
              "...                    ...       ...  \n",
              "9862-1                 NaN         3  \n",
              "9866-0                 NaN         8  \n",
              "9866-1                 NaN         3  \n",
              "9924-0                 NaN         8  \n",
              "9924-1                 NaN        13  \n",
              "\n",
              "[2000 rows x 282 columns]"
            ],
            "text/html": [
              "\n",
              "  <div id=\"df-c198fa01-9bb5-4082-b92d-d0ed475ad7cb\">\n",
              "    <div class=\"colab-df-container\">\n",
              "      <div>\n",
              "<style scoped>\n",
              "    .dataframe tbody tr th:only-of-type {\n",
              "        vertical-align: middle;\n",
              "    }\n",
              "\n",
              "    .dataframe tbody tr th {\n",
              "        vertical-align: top;\n",
              "    }\n",
              "\n",
              "    .dataframe thead th {\n",
              "        text-align: right;\n",
              "    }\n",
              "</style>\n",
              "<table border=\"1\" class=\"dataframe\">\n",
              "  <thead>\n",
              "    <tr style=\"text-align: right;\">\n",
              "      <th></th>\n",
              "      <th>radiant_score</th>\n",
              "      <th>dire_score</th>\n",
              "      <th>tower_damage-0</th>\n",
              "      <th>kda-0</th>\n",
              "      <th>towers_killed-0</th>\n",
              "      <th>tower_kills-0</th>\n",
              "      <th>gold-0</th>\n",
              "      <th>kills_per_min-0</th>\n",
              "      <th>assists-0</th>\n",
              "      <th>kills-0</th>\n",
              "      <th>...</th>\n",
              "      <th>actions_per_min-9</th>\n",
              "      <th>lane_kills-9</th>\n",
              "      <th>total_xp-9</th>\n",
              "      <th>purchase_tpscroll-9</th>\n",
              "      <th>xp_per_min-9</th>\n",
              "      <th>pings-9</th>\n",
              "      <th>camps_stacked-9</th>\n",
              "      <th>leaver_status-9</th>\n",
              "      <th>life_state_dead-9</th>\n",
              "      <th>deaths-9</th>\n",
              "    </tr>\n",
              "  </thead>\n",
              "  <tbody>\n",
              "    <tr>\n",
              "      <th>10013-0</th>\n",
              "      <td>46</td>\n",
              "      <td>55</td>\n",
              "      <td>2142</td>\n",
              "      <td>2</td>\n",
              "      <td>NaN</td>\n",
              "      <td>NaN</td>\n",
              "      <td>476</td>\n",
              "      <td>0.185886</td>\n",
              "      <td>13</td>\n",
              "      <td>9</td>\n",
              "      <td>...</td>\n",
              "      <td>NaN</td>\n",
              "      <td>NaN</td>\n",
              "      <td>43187</td>\n",
              "      <td>NaN</td>\n",
              "      <td>892</td>\n",
              "      <td>NaN</td>\n",
              "      <td>NaN</td>\n",
              "      <td>0</td>\n",
              "      <td>NaN</td>\n",
              "      <td>6</td>\n",
              "    </tr>\n",
              "    <tr>\n",
              "      <th>10013-1</th>\n",
              "      <td>55</td>\n",
              "      <td>46</td>\n",
              "      <td>24183</td>\n",
              "      <td>3</td>\n",
              "      <td>NaN</td>\n",
              "      <td>NaN</td>\n",
              "      <td>1645</td>\n",
              "      <td>0.309811</td>\n",
              "      <td>12</td>\n",
              "      <td>15</td>\n",
              "      <td>...</td>\n",
              "      <td>NaN</td>\n",
              "      <td>NaN</td>\n",
              "      <td>33649</td>\n",
              "      <td>NaN</td>\n",
              "      <td>695</td>\n",
              "      <td>NaN</td>\n",
              "      <td>NaN</td>\n",
              "      <td>0</td>\n",
              "      <td>NaN</td>\n",
              "      <td>10</td>\n",
              "    </tr>\n",
              "    <tr>\n",
              "      <th>10020-0</th>\n",
              "      <td>58</td>\n",
              "      <td>55</td>\n",
              "      <td>648</td>\n",
              "      <td>3</td>\n",
              "      <td>NaN</td>\n",
              "      <td>NaN</td>\n",
              "      <td>1049</td>\n",
              "      <td>0.225950</td>\n",
              "      <td>27</td>\n",
              "      <td>11</td>\n",
              "      <td>...</td>\n",
              "      <td>NaN</td>\n",
              "      <td>NaN</td>\n",
              "      <td>45129</td>\n",
              "      <td>NaN</td>\n",
              "      <td>927</td>\n",
              "      <td>NaN</td>\n",
              "      <td>NaN</td>\n",
              "      <td>0</td>\n",
              "      <td>NaN</td>\n",
              "      <td>13</td>\n",
              "    </tr>\n",
              "    <tr>\n",
              "      <th>10020-1</th>\n",
              "      <td>55</td>\n",
              "      <td>58</td>\n",
              "      <td>4283</td>\n",
              "      <td>2</td>\n",
              "      <td>NaN</td>\n",
              "      <td>NaN</td>\n",
              "      <td>1035</td>\n",
              "      <td>0.328655</td>\n",
              "      <td>13</td>\n",
              "      <td>16</td>\n",
              "      <td>...</td>\n",
              "      <td>NaN</td>\n",
              "      <td>NaN</td>\n",
              "      <td>37486</td>\n",
              "      <td>NaN</td>\n",
              "      <td>770</td>\n",
              "      <td>NaN</td>\n",
              "      <td>NaN</td>\n",
              "      <td>0</td>\n",
              "      <td>NaN</td>\n",
              "      <td>10</td>\n",
              "    </tr>\n",
              "    <tr>\n",
              "      <th>10037-0</th>\n",
              "      <td>17</td>\n",
              "      <td>47</td>\n",
              "      <td>25</td>\n",
              "      <td>0</td>\n",
              "      <td>NaN</td>\n",
              "      <td>NaN</td>\n",
              "      <td>297</td>\n",
              "      <td>0.076142</td>\n",
              "      <td>7</td>\n",
              "      <td>2</td>\n",
              "      <td>...</td>\n",
              "      <td>NaN</td>\n",
              "      <td>NaN</td>\n",
              "      <td>45257</td>\n",
              "      <td>NaN</td>\n",
              "      <td>1723</td>\n",
              "      <td>NaN</td>\n",
              "      <td>NaN</td>\n",
              "      <td>0</td>\n",
              "      <td>NaN</td>\n",
              "      <td>2</td>\n",
              "    </tr>\n",
              "    <tr>\n",
              "      <th>...</th>\n",
              "      <td>...</td>\n",
              "      <td>...</td>\n",
              "      <td>...</td>\n",
              "      <td>...</td>\n",
              "      <td>...</td>\n",
              "      <td>...</td>\n",
              "      <td>...</td>\n",
              "      <td>...</td>\n",
              "      <td>...</td>\n",
              "      <td>...</td>\n",
              "      <td>...</td>\n",
              "      <td>...</td>\n",
              "      <td>...</td>\n",
              "      <td>...</td>\n",
              "      <td>...</td>\n",
              "      <td>...</td>\n",
              "      <td>...</td>\n",
              "      <td>...</td>\n",
              "      <td>...</td>\n",
              "      <td>...</td>\n",
              "      <td>...</td>\n",
              "    </tr>\n",
              "    <tr>\n",
              "      <th>9862-1</th>\n",
              "      <td>20</td>\n",
              "      <td>60</td>\n",
              "      <td>20</td>\n",
              "      <td>0</td>\n",
              "      <td>NaN</td>\n",
              "      <td>NaN</td>\n",
              "      <td>900</td>\n",
              "      <td>NaN</td>\n",
              "      <td>9</td>\n",
              "      <td>0</td>\n",
              "      <td>...</td>\n",
              "      <td>NaN</td>\n",
              "      <td>NaN</td>\n",
              "      <td>22908</td>\n",
              "      <td>NaN</td>\n",
              "      <td>645</td>\n",
              "      <td>NaN</td>\n",
              "      <td>NaN</td>\n",
              "      <td>0</td>\n",
              "      <td>NaN</td>\n",
              "      <td>3</td>\n",
              "    </tr>\n",
              "    <tr>\n",
              "      <th>9866-0</th>\n",
              "      <td>39</td>\n",
              "      <td>24</td>\n",
              "      <td>4682</td>\n",
              "      <td>6</td>\n",
              "      <td>NaN</td>\n",
              "      <td>NaN</td>\n",
              "      <td>2326</td>\n",
              "      <td>0.053500</td>\n",
              "      <td>23</td>\n",
              "      <td>2</td>\n",
              "      <td>...</td>\n",
              "      <td>NaN</td>\n",
              "      <td>NaN</td>\n",
              "      <td>11028</td>\n",
              "      <td>NaN</td>\n",
              "      <td>295</td>\n",
              "      <td>NaN</td>\n",
              "      <td>NaN</td>\n",
              "      <td>0</td>\n",
              "      <td>NaN</td>\n",
              "      <td>8</td>\n",
              "    </tr>\n",
              "    <tr>\n",
              "      <th>9866-1</th>\n",
              "      <td>24</td>\n",
              "      <td>39</td>\n",
              "      <td>101</td>\n",
              "      <td>1</td>\n",
              "      <td>NaN</td>\n",
              "      <td>NaN</td>\n",
              "      <td>2340</td>\n",
              "      <td>0.053500</td>\n",
              "      <td>14</td>\n",
              "      <td>2</td>\n",
              "      <td>...</td>\n",
              "      <td>NaN</td>\n",
              "      <td>NaN</td>\n",
              "      <td>23065</td>\n",
              "      <td>NaN</td>\n",
              "      <td>617</td>\n",
              "      <td>NaN</td>\n",
              "      <td>NaN</td>\n",
              "      <td>0</td>\n",
              "      <td>NaN</td>\n",
              "      <td>3</td>\n",
              "    </tr>\n",
              "    <tr>\n",
              "      <th>9924-0</th>\n",
              "      <td>23</td>\n",
              "      <td>57</td>\n",
              "      <td>0</td>\n",
              "      <td>0</td>\n",
              "      <td>NaN</td>\n",
              "      <td>NaN</td>\n",
              "      <td>1342</td>\n",
              "      <td>0.054770</td>\n",
              "      <td>6</td>\n",
              "      <td>2</td>\n",
              "      <td>...</td>\n",
              "      <td>NaN</td>\n",
              "      <td>NaN</td>\n",
              "      <td>34471</td>\n",
              "      <td>NaN</td>\n",
              "      <td>944</td>\n",
              "      <td>NaN</td>\n",
              "      <td>NaN</td>\n",
              "      <td>0</td>\n",
              "      <td>NaN</td>\n",
              "      <td>8</td>\n",
              "    </tr>\n",
              "    <tr>\n",
              "      <th>9924-1</th>\n",
              "      <td>57</td>\n",
              "      <td>23</td>\n",
              "      <td>8225</td>\n",
              "      <td>2</td>\n",
              "      <td>NaN</td>\n",
              "      <td>NaN</td>\n",
              "      <td>2238</td>\n",
              "      <td>0.246463</td>\n",
              "      <td>12</td>\n",
              "      <td>9</td>\n",
              "      <td>...</td>\n",
              "      <td>NaN</td>\n",
              "      <td>NaN</td>\n",
              "      <td>15373</td>\n",
              "      <td>NaN</td>\n",
              "      <td>421</td>\n",
              "      <td>NaN</td>\n",
              "      <td>NaN</td>\n",
              "      <td>0</td>\n",
              "      <td>NaN</td>\n",
              "      <td>13</td>\n",
              "    </tr>\n",
              "  </tbody>\n",
              "</table>\n",
              "<p>2000 rows × 282 columns</p>\n",
              "</div>\n",
              "      <button class=\"colab-df-convert\" onclick=\"convertToInteractive('df-c198fa01-9bb5-4082-b92d-d0ed475ad7cb')\"\n",
              "              title=\"Convert this dataframe to an interactive table.\"\n",
              "              style=\"display:none;\">\n",
              "        \n",
              "  <svg xmlns=\"http://www.w3.org/2000/svg\" height=\"24px\"viewBox=\"0 0 24 24\"\n",
              "       width=\"24px\">\n",
              "    <path d=\"M0 0h24v24H0V0z\" fill=\"none\"/>\n",
              "    <path d=\"M18.56 5.44l.94 2.06.94-2.06 2.06-.94-2.06-.94-.94-2.06-.94 2.06-2.06.94zm-11 1L8.5 8.5l.94-2.06 2.06-.94-2.06-.94L8.5 2.5l-.94 2.06-2.06.94zm10 10l.94 2.06.94-2.06 2.06-.94-2.06-.94-.94-2.06-.94 2.06-2.06.94z\"/><path d=\"M17.41 7.96l-1.37-1.37c-.4-.4-.92-.59-1.43-.59-.52 0-1.04.2-1.43.59L10.3 9.45l-7.72 7.72c-.78.78-.78 2.05 0 2.83L4 21.41c.39.39.9.59 1.41.59.51 0 1.02-.2 1.41-.59l7.78-7.78 2.81-2.81c.8-.78.8-2.07 0-2.86zM5.41 20L4 18.59l7.72-7.72 1.47 1.35L5.41 20z\"/>\n",
              "  </svg>\n",
              "      </button>\n",
              "      \n",
              "  <style>\n",
              "    .colab-df-container {\n",
              "      display:flex;\n",
              "      flex-wrap:wrap;\n",
              "      gap: 12px;\n",
              "    }\n",
              "\n",
              "    .colab-df-convert {\n",
              "      background-color: #E8F0FE;\n",
              "      border: none;\n",
              "      border-radius: 50%;\n",
              "      cursor: pointer;\n",
              "      display: none;\n",
              "      fill: #1967D2;\n",
              "      height: 32px;\n",
              "      padding: 0 0 0 0;\n",
              "      width: 32px;\n",
              "    }\n",
              "\n",
              "    .colab-df-convert:hover {\n",
              "      background-color: #E2EBFA;\n",
              "      box-shadow: 0px 1px 2px rgba(60, 64, 67, 0.3), 0px 1px 3px 1px rgba(60, 64, 67, 0.15);\n",
              "      fill: #174EA6;\n",
              "    }\n",
              "\n",
              "    [theme=dark] .colab-df-convert {\n",
              "      background-color: #3B4455;\n",
              "      fill: #D2E3FC;\n",
              "    }\n",
              "\n",
              "    [theme=dark] .colab-df-convert:hover {\n",
              "      background-color: #434B5C;\n",
              "      box-shadow: 0px 1px 3px 1px rgba(0, 0, 0, 0.15);\n",
              "      filter: drop-shadow(0px 1px 2px rgba(0, 0, 0, 0.3));\n",
              "      fill: #FFFFFF;\n",
              "    }\n",
              "  </style>\n",
              "\n",
              "      <script>\n",
              "        const buttonEl =\n",
              "          document.querySelector('#df-c198fa01-9bb5-4082-b92d-d0ed475ad7cb button.colab-df-convert');\n",
              "        buttonEl.style.display =\n",
              "          google.colab.kernel.accessAllowed ? 'block' : 'none';\n",
              "\n",
              "        async function convertToInteractive(key) {\n",
              "          const element = document.querySelector('#df-c198fa01-9bb5-4082-b92d-d0ed475ad7cb');\n",
              "          const dataTable =\n",
              "            await google.colab.kernel.invokeFunction('convertToInteractive',\n",
              "                                                     [key], {});\n",
              "          if (!dataTable) return;\n",
              "\n",
              "          const docLinkHtml = 'Like what you see? Visit the ' +\n",
              "            '<a target=\"_blank\" href=https://colab.research.google.com/notebooks/data_table.ipynb>data table notebook</a>'\n",
              "            + ' to learn more about interactive tables.';\n",
              "          element.innerHTML = '';\n",
              "          dataTable['output_type'] = 'display_data';\n",
              "          await google.colab.output.renderOutput(dataTable, element);\n",
              "          const docLink = document.createElement('div');\n",
              "          docLink.innerHTML = docLinkHtml;\n",
              "          element.appendChild(docLink);\n",
              "        }\n",
              "      </script>\n",
              "    </div>\n",
              "  </div>\n",
              "  "
            ]
          },
          "metadata": {},
          "execution_count": 33
        }
      ]
    },
    {
      "cell_type": "markdown",
      "source": [
        "## Обучение модели"
      ],
      "metadata": {
        "id": "42eFxO9IogAs"
      }
    },
    {
      "cell_type": "code",
      "source": [
        "my_pipeline.fit(X_train, y_train)"
      ],
      "metadata": {
        "colab": {
          "base_uri": "https://localhost:8080/",
          "height": 125
        },
        "id": "dngm8W0m7_UZ",
        "outputId": "d8f46c97-b758-4857-8288-7bc6a1757d73"
      },
      "execution_count": 81,
      "outputs": [
        {
          "output_type": "execute_result",
          "data": {
            "text/plain": [
              "Pipeline(steps=[('preprocessor', SimpleImputer(strategy='median')),\n",
              "                ('model', GradientBoostingClassifier(random_state=0))])"
            ],
            "text/html": [
              "<style>#sk-container-id-4 {color: black;background-color: white;}#sk-container-id-4 pre{padding: 0;}#sk-container-id-4 div.sk-toggleable {background-color: white;}#sk-container-id-4 label.sk-toggleable__label {cursor: pointer;display: block;width: 100%;margin-bottom: 0;padding: 0.3em;box-sizing: border-box;text-align: center;}#sk-container-id-4 label.sk-toggleable__label-arrow:before {content: \"▸\";float: left;margin-right: 0.25em;color: #696969;}#sk-container-id-4 label.sk-toggleable__label-arrow:hover:before {color: black;}#sk-container-id-4 div.sk-estimator:hover label.sk-toggleable__label-arrow:before {color: black;}#sk-container-id-4 div.sk-toggleable__content {max-height: 0;max-width: 0;overflow: hidden;text-align: left;background-color: #f0f8ff;}#sk-container-id-4 div.sk-toggleable__content pre {margin: 0.2em;color: black;border-radius: 0.25em;background-color: #f0f8ff;}#sk-container-id-4 input.sk-toggleable__control:checked~div.sk-toggleable__content {max-height: 200px;max-width: 100%;overflow: auto;}#sk-container-id-4 input.sk-toggleable__control:checked~label.sk-toggleable__label-arrow:before {content: \"▾\";}#sk-container-id-4 div.sk-estimator input.sk-toggleable__control:checked~label.sk-toggleable__label {background-color: #d4ebff;}#sk-container-id-4 div.sk-label input.sk-toggleable__control:checked~label.sk-toggleable__label {background-color: #d4ebff;}#sk-container-id-4 input.sk-hidden--visually {border: 0;clip: rect(1px 1px 1px 1px);clip: rect(1px, 1px, 1px, 1px);height: 1px;margin: -1px;overflow: hidden;padding: 0;position: absolute;width: 1px;}#sk-container-id-4 div.sk-estimator {font-family: monospace;background-color: #f0f8ff;border: 1px dotted black;border-radius: 0.25em;box-sizing: border-box;margin-bottom: 0.5em;}#sk-container-id-4 div.sk-estimator:hover {background-color: #d4ebff;}#sk-container-id-4 div.sk-parallel-item::after {content: \"\";width: 100%;border-bottom: 1px solid gray;flex-grow: 1;}#sk-container-id-4 div.sk-label:hover label.sk-toggleable__label {background-color: #d4ebff;}#sk-container-id-4 div.sk-serial::before {content: \"\";position: absolute;border-left: 1px solid gray;box-sizing: border-box;top: 0;bottom: 0;left: 50%;z-index: 0;}#sk-container-id-4 div.sk-serial {display: flex;flex-direction: column;align-items: center;background-color: white;padding-right: 0.2em;padding-left: 0.2em;position: relative;}#sk-container-id-4 div.sk-item {position: relative;z-index: 1;}#sk-container-id-4 div.sk-parallel {display: flex;align-items: stretch;justify-content: center;background-color: white;position: relative;}#sk-container-id-4 div.sk-item::before, #sk-container-id-4 div.sk-parallel-item::before {content: \"\";position: absolute;border-left: 1px solid gray;box-sizing: border-box;top: 0;bottom: 0;left: 50%;z-index: -1;}#sk-container-id-4 div.sk-parallel-item {display: flex;flex-direction: column;z-index: 1;position: relative;background-color: white;}#sk-container-id-4 div.sk-parallel-item:first-child::after {align-self: flex-end;width: 50%;}#sk-container-id-4 div.sk-parallel-item:last-child::after {align-self: flex-start;width: 50%;}#sk-container-id-4 div.sk-parallel-item:only-child::after {width: 0;}#sk-container-id-4 div.sk-dashed-wrapped {border: 1px dashed gray;margin: 0 0.4em 0.5em 0.4em;box-sizing: border-box;padding-bottom: 0.4em;background-color: white;}#sk-container-id-4 div.sk-label label {font-family: monospace;font-weight: bold;display: inline-block;line-height: 1.2em;}#sk-container-id-4 div.sk-label-container {text-align: center;}#sk-container-id-4 div.sk-container {/* jupyter's `normalize.less` sets `[hidden] { display: none; }` but bootstrap.min.css set `[hidden] { display: none !important; }` so we also need the `!important` here to be able to override the default hidden behavior on the sphinx rendered scikit-learn.org. See: https://github.com/scikit-learn/scikit-learn/issues/21755 */display: inline-block !important;position: relative;}#sk-container-id-4 div.sk-text-repr-fallback {display: none;}</style><div id=\"sk-container-id-4\" class=\"sk-top-container\"><div class=\"sk-text-repr-fallback\"><pre>Pipeline(steps=[(&#x27;preprocessor&#x27;, SimpleImputer(strategy=&#x27;median&#x27;)),\n",
              "                (&#x27;model&#x27;, GradientBoostingClassifier(random_state=0))])</pre><b>In a Jupyter environment, please rerun this cell to show the HTML representation or trust the notebook. <br />On GitHub, the HTML representation is unable to render, please try loading this page with nbviewer.org.</b></div><div class=\"sk-container\" hidden><div class=\"sk-item sk-dashed-wrapped\"><div class=\"sk-label-container\"><div class=\"sk-label sk-toggleable\"><input class=\"sk-toggleable__control sk-hidden--visually\" id=\"sk-estimator-id-10\" type=\"checkbox\" ><label for=\"sk-estimator-id-10\" class=\"sk-toggleable__label sk-toggleable__label-arrow\">Pipeline</label><div class=\"sk-toggleable__content\"><pre>Pipeline(steps=[(&#x27;preprocessor&#x27;, SimpleImputer(strategy=&#x27;median&#x27;)),\n",
              "                (&#x27;model&#x27;, GradientBoostingClassifier(random_state=0))])</pre></div></div></div><div class=\"sk-serial\"><div class=\"sk-item\"><div class=\"sk-estimator sk-toggleable\"><input class=\"sk-toggleable__control sk-hidden--visually\" id=\"sk-estimator-id-11\" type=\"checkbox\" ><label for=\"sk-estimator-id-11\" class=\"sk-toggleable__label sk-toggleable__label-arrow\">SimpleImputer</label><div class=\"sk-toggleable__content\"><pre>SimpleImputer(strategy=&#x27;median&#x27;)</pre></div></div></div><div class=\"sk-item\"><div class=\"sk-estimator sk-toggleable\"><input class=\"sk-toggleable__control sk-hidden--visually\" id=\"sk-estimator-id-12\" type=\"checkbox\" ><label for=\"sk-estimator-id-12\" class=\"sk-toggleable__label sk-toggleable__label-arrow\">GradientBoostingClassifier</label><div class=\"sk-toggleable__content\"><pre>GradientBoostingClassifier(random_state=0)</pre></div></div></div></div></div></div></div>"
            ]
          },
          "metadata": {},
          "execution_count": 81
        }
      ]
    },
    {
      "cell_type": "markdown",
      "source": [
        "## Предсказание модели"
      ],
      "metadata": {
        "id": "C0can1JYon4_"
      }
    },
    {
      "cell_type": "code",
      "source": [
        "probs = my_pipeline.predict_proba(X_test)"
      ],
      "metadata": {
        "id": "NGGLGkwh-cwB"
      },
      "execution_count": 82,
      "outputs": []
    },
    {
      "cell_type": "code",
      "source": [
        "probs"
      ],
      "metadata": {
        "colab": {
          "base_uri": "https://localhost:8080/"
        },
        "id": "2dwhJsQM-886",
        "outputId": "e5f06a85-56c2-47f9-8e24-33c03f75938f"
      },
      "execution_count": 83,
      "outputs": [
        {
          "output_type": "execute_result",
          "data": {
            "text/plain": [
              "array([[0.93810947, 0.06189053],\n",
              "       [0.09342714, 0.90657286],\n",
              "       [0.95246055, 0.04753945],\n",
              "       ...,\n",
              "       [0.96582234, 0.03417766],\n",
              "       [0.99562891, 0.00437109],\n",
              "       [0.0058105 , 0.9941895 ]])"
            ]
          },
          "metadata": {},
          "execution_count": 83
        }
      ]
    },
    {
      "cell_type": "markdown",
      "source": [
        "Получим более устойчивые предсказания, взяв среднее из вероятности первой команды победить и второй команды проиграть"
      ],
      "metadata": {
        "id": "vfmbuj8rAkSW"
      }
    },
    {
      "cell_type": "code",
      "source": [
        "probs_for_game = probs[0::2][:, 1]\n",
        "probs_for_reversed_game = probs[1::2][:, 0]\n",
        "probs = (probs_for_game + probs_for_reversed_game) / 2"
      ],
      "metadata": {
        "id": "Gr-QTIxj-iEi"
      },
      "execution_count": 84,
      "outputs": []
    },
    {
      "cell_type": "markdown",
      "source": [
        "Для некоторых объектов модель дает ответ неуверенно. Для каждого такого объекта сгенерируем 120*120 = 14400 объектов, полученных перестановками игроков внутри команды. Посчитаем их вероятности и усредним."
      ],
      "metadata": {
        "id": "2ExpEfxa-6hQ"
      }
    },
    {
      "cell_type": "code",
      "source": [
        "problem_indexes = np.where(np.abs(probs - 0.5) <= 0.1)[0]\n",
        "problem_indexes"
      ],
      "metadata": {
        "colab": {
          "base_uri": "https://localhost:8080/"
        },
        "id": "6FMxxpvYt3MP",
        "outputId": "e0a83209-7f8a-4ce1-e9df-9395d9659422"
      },
      "execution_count": 85,
      "outputs": [
        {
          "output_type": "execute_result",
          "data": {
            "text/plain": [
              "array([115, 151, 307, 360, 454, 490, 582, 625, 709, 908, 935, 949])"
            ]
          },
          "metadata": {},
          "execution_count": 85
        }
      ]
    },
    {
      "cell_type": "code",
      "source": [
        "answer_i_2_df_i = {i: j for i, j in enumerate(X_test.index)}"
      ],
      "metadata": {
        "id": "6ti-wrPpwpyP"
      },
      "execution_count": 86,
      "outputs": []
    },
    {
      "cell_type": "code",
      "source": [
        "import itertools\n",
        "\n",
        "sustainable_probs = []\n",
        "for i in problem_indexes:\n",
        "    problem_index_augmentated = {}\n",
        "    df_i = answer_i_2_df_i[2 * i] # умножаем на 2 по построению dataframe\n",
        "    problem_game = X_test.loc[df_i].to_dict()\n",
        "    new_problem_game = problem_game.copy()\n",
        "    indicies = [0, 1, 2, 3, 4]\n",
        "    k = 0\n",
        "    for permutation in itertools.permutations(indicies):\n",
        "        for key in problem_game.keys():\n",
        "            if key[-1].isdigit() and int(key[-1]) < 5: # перестановка внутри первой команды\n",
        "                new_problem_game[key] = problem_game[key[:-1] + str(permutation[int(key[-1])])]\n",
        "        for permutation2 in itertools.permutations(indicies):\n",
        "            new_problem_game2 = new_problem_game.copy()\n",
        "            for key in problem_game.keys():\n",
        "                if key[-1].isdigit() and int(key[-1]) >= 5: # перестановка внутри второй команды\n",
        "                    new_problem_game2[key] = problem_game[key[:-1] + str(permutation[int(key[-1]) - 5] + 5)]\n",
        "            problem_index_augmentated[k] = new_problem_game2\n",
        "            k += 1\n",
        "    X_problem = shuffle(pd.DataFrame.from_dict(problem_index_augmentated, orient='index'))\n",
        "    preds_problem = my_pipeline.predict_proba(X_problem)\n",
        "    sustainable_probs.append(np.mean(preds_problem[:, 1]))\n",
        "    break"
      ],
      "metadata": {
        "colab": {
          "base_uri": "https://localhost:8080/"
        },
        "id": "9wjGDUyXwNpm",
        "outputId": "a3aa7451-e781-44e4-a529-706a7e7d9791"
      },
      "execution_count": 112,
      "outputs": [
        {
          "output_type": "stream",
          "name": "stdout",
          "text": [
            "(14400, 282)\n"
          ]
        }
      ]
    },
    {
      "cell_type": "code",
      "source": [
        "sustainable_probs"
      ],
      "metadata": {
        "colab": {
          "base_uri": "https://localhost:8080/"
        },
        "id": "AcyMEs2i960V",
        "outputId": "cbfb44e7-c0c3-4ff9-fec5-780d89d6507f"
      },
      "execution_count": 110,
      "outputs": [
        {
          "output_type": "execute_result",
          "data": {
            "text/plain": [
              "[0.4687824814855701,\n",
              " 0.3835349251423075,\n",
              " 0.4454150990488217,\n",
              " 0.4009852567998851,\n",
              " 0.5926201631276893,\n",
              " 0.47027128175213956,\n",
              " 0.537816220726901,\n",
              " 0.40256508925568896,\n",
              " 0.7402370007755655,\n",
              " 0.6789577493813014,\n",
              " 0.6356937840417666,\n",
              " 0.5244011716436118]"
            ]
          },
          "metadata": {},
          "execution_count": 110
        }
      ]
    },
    {
      "cell_type": "code",
      "source": [
        "for i, pr in enumerate(sustainable_probs):\n",
        "    probs[problem_indexes[i]] = pr"
      ],
      "metadata": {
        "id": "qNCJ0SPs_ab2"
      },
      "execution_count": 114,
      "outputs": []
    },
    {
      "cell_type": "code",
      "source": [
        "labels = (probs >= 0.5).astype(int)\n",
        "labels[:10]"
      ],
      "metadata": {
        "colab": {
          "base_uri": "https://localhost:8080/"
        },
        "id": "4B_7lA7Btw23",
        "outputId": "bb765b2a-a08b-4c52-c622-dbbc8bb11164"
      },
      "execution_count": 117,
      "outputs": [
        {
          "output_type": "execute_result",
          "data": {
            "text/plain": [
              "array([0, 0, 0, 0, 1, 1, 1, 1, 0, 1])"
            ]
          },
          "metadata": {},
          "execution_count": 117
        }
      ]
    },
    {
      "cell_type": "markdown",
      "source": [
        "Приведем индекс к исходному состоянию"
      ],
      "metadata": {
        "id": "LLZLu5OtBn5Q"
      }
    },
    {
      "cell_type": "code",
      "source": [
        "index = [id[:-2] for id in X_test.index[0::2]]"
      ],
      "metadata": {
        "id": "h8sQKVPcBRoI"
      },
      "execution_count": 118,
      "outputs": []
    },
    {
      "cell_type": "code",
      "source": [
        "answer = pd.DataFrame()\n",
        "answer['name'] = index\n",
        "answer['target'] = labels"
      ],
      "metadata": {
        "id": "DdAEluin8lTN"
      },
      "execution_count": 119,
      "outputs": []
    },
    {
      "cell_type": "code",
      "source": [
        "answer.to_csv('simple_answer.csv', sep='\\t', index=False)"
      ],
      "metadata": {
        "id": "SCDbTzbp9QUE"
      },
      "execution_count": 120,
      "outputs": []
    },
    {
      "cell_type": "code",
      "source": [
        "answer"
      ],
      "metadata": {
        "colab": {
          "base_uri": "https://localhost:8080/",
          "height": 423
        },
        "id": "cUojPIaz9mu_",
        "outputId": "d2be9a8b-9845-4963-893f-fea1af0cd024"
      },
      "execution_count": 121,
      "outputs": [
        {
          "output_type": "execute_result",
          "data": {
            "text/plain": [
              "      name  target\n",
              "0    10013       0\n",
              "1    10020       0\n",
              "2    10037       0\n",
              "3    10059       0\n",
              "4    10113       1\n",
              "..     ...     ...\n",
              "995   9808       0\n",
              "996   9860       1\n",
              "997   9862       1\n",
              "998   9866       1\n",
              "999   9924       0\n",
              "\n",
              "[1000 rows x 2 columns]"
            ],
            "text/html": [
              "\n",
              "  <div id=\"df-4c79d058-a619-4be4-a85f-6f799340a1fc\">\n",
              "    <div class=\"colab-df-container\">\n",
              "      <div>\n",
              "<style scoped>\n",
              "    .dataframe tbody tr th:only-of-type {\n",
              "        vertical-align: middle;\n",
              "    }\n",
              "\n",
              "    .dataframe tbody tr th {\n",
              "        vertical-align: top;\n",
              "    }\n",
              "\n",
              "    .dataframe thead th {\n",
              "        text-align: right;\n",
              "    }\n",
              "</style>\n",
              "<table border=\"1\" class=\"dataframe\">\n",
              "  <thead>\n",
              "    <tr style=\"text-align: right;\">\n",
              "      <th></th>\n",
              "      <th>name</th>\n",
              "      <th>target</th>\n",
              "    </tr>\n",
              "  </thead>\n",
              "  <tbody>\n",
              "    <tr>\n",
              "      <th>0</th>\n",
              "      <td>10013</td>\n",
              "      <td>0</td>\n",
              "    </tr>\n",
              "    <tr>\n",
              "      <th>1</th>\n",
              "      <td>10020</td>\n",
              "      <td>0</td>\n",
              "    </tr>\n",
              "    <tr>\n",
              "      <th>2</th>\n",
              "      <td>10037</td>\n",
              "      <td>0</td>\n",
              "    </tr>\n",
              "    <tr>\n",
              "      <th>3</th>\n",
              "      <td>10059</td>\n",
              "      <td>0</td>\n",
              "    </tr>\n",
              "    <tr>\n",
              "      <th>4</th>\n",
              "      <td>10113</td>\n",
              "      <td>1</td>\n",
              "    </tr>\n",
              "    <tr>\n",
              "      <th>...</th>\n",
              "      <td>...</td>\n",
              "      <td>...</td>\n",
              "    </tr>\n",
              "    <tr>\n",
              "      <th>995</th>\n",
              "      <td>9808</td>\n",
              "      <td>0</td>\n",
              "    </tr>\n",
              "    <tr>\n",
              "      <th>996</th>\n",
              "      <td>9860</td>\n",
              "      <td>1</td>\n",
              "    </tr>\n",
              "    <tr>\n",
              "      <th>997</th>\n",
              "      <td>9862</td>\n",
              "      <td>1</td>\n",
              "    </tr>\n",
              "    <tr>\n",
              "      <th>998</th>\n",
              "      <td>9866</td>\n",
              "      <td>1</td>\n",
              "    </tr>\n",
              "    <tr>\n",
              "      <th>999</th>\n",
              "      <td>9924</td>\n",
              "      <td>0</td>\n",
              "    </tr>\n",
              "  </tbody>\n",
              "</table>\n",
              "<p>1000 rows × 2 columns</p>\n",
              "</div>\n",
              "      <button class=\"colab-df-convert\" onclick=\"convertToInteractive('df-4c79d058-a619-4be4-a85f-6f799340a1fc')\"\n",
              "              title=\"Convert this dataframe to an interactive table.\"\n",
              "              style=\"display:none;\">\n",
              "        \n",
              "  <svg xmlns=\"http://www.w3.org/2000/svg\" height=\"24px\"viewBox=\"0 0 24 24\"\n",
              "       width=\"24px\">\n",
              "    <path d=\"M0 0h24v24H0V0z\" fill=\"none\"/>\n",
              "    <path d=\"M18.56 5.44l.94 2.06.94-2.06 2.06-.94-2.06-.94-.94-2.06-.94 2.06-2.06.94zm-11 1L8.5 8.5l.94-2.06 2.06-.94-2.06-.94L8.5 2.5l-.94 2.06-2.06.94zm10 10l.94 2.06.94-2.06 2.06-.94-2.06-.94-.94-2.06-.94 2.06-2.06.94z\"/><path d=\"M17.41 7.96l-1.37-1.37c-.4-.4-.92-.59-1.43-.59-.52 0-1.04.2-1.43.59L10.3 9.45l-7.72 7.72c-.78.78-.78 2.05 0 2.83L4 21.41c.39.39.9.59 1.41.59.51 0 1.02-.2 1.41-.59l7.78-7.78 2.81-2.81c.8-.78.8-2.07 0-2.86zM5.41 20L4 18.59l7.72-7.72 1.47 1.35L5.41 20z\"/>\n",
              "  </svg>\n",
              "      </button>\n",
              "      \n",
              "  <style>\n",
              "    .colab-df-container {\n",
              "      display:flex;\n",
              "      flex-wrap:wrap;\n",
              "      gap: 12px;\n",
              "    }\n",
              "\n",
              "    .colab-df-convert {\n",
              "      background-color: #E8F0FE;\n",
              "      border: none;\n",
              "      border-radius: 50%;\n",
              "      cursor: pointer;\n",
              "      display: none;\n",
              "      fill: #1967D2;\n",
              "      height: 32px;\n",
              "      padding: 0 0 0 0;\n",
              "      width: 32px;\n",
              "    }\n",
              "\n",
              "    .colab-df-convert:hover {\n",
              "      background-color: #E2EBFA;\n",
              "      box-shadow: 0px 1px 2px rgba(60, 64, 67, 0.3), 0px 1px 3px 1px rgba(60, 64, 67, 0.15);\n",
              "      fill: #174EA6;\n",
              "    }\n",
              "\n",
              "    [theme=dark] .colab-df-convert {\n",
              "      background-color: #3B4455;\n",
              "      fill: #D2E3FC;\n",
              "    }\n",
              "\n",
              "    [theme=dark] .colab-df-convert:hover {\n",
              "      background-color: #434B5C;\n",
              "      box-shadow: 0px 1px 3px 1px rgba(0, 0, 0, 0.15);\n",
              "      filter: drop-shadow(0px 1px 2px rgba(0, 0, 0, 0.3));\n",
              "      fill: #FFFFFF;\n",
              "    }\n",
              "  </style>\n",
              "\n",
              "      <script>\n",
              "        const buttonEl =\n",
              "          document.querySelector('#df-4c79d058-a619-4be4-a85f-6f799340a1fc button.colab-df-convert');\n",
              "        buttonEl.style.display =\n",
              "          google.colab.kernel.accessAllowed ? 'block' : 'none';\n",
              "\n",
              "        async function convertToInteractive(key) {\n",
              "          const element = document.querySelector('#df-4c79d058-a619-4be4-a85f-6f799340a1fc');\n",
              "          const dataTable =\n",
              "            await google.colab.kernel.invokeFunction('convertToInteractive',\n",
              "                                                     [key], {});\n",
              "          if (!dataTable) return;\n",
              "\n",
              "          const docLinkHtml = 'Like what you see? Visit the ' +\n",
              "            '<a target=\"_blank\" href=https://colab.research.google.com/notebooks/data_table.ipynb>data table notebook</a>'\n",
              "            + ' to learn more about interactive tables.';\n",
              "          element.innerHTML = '';\n",
              "          dataTable['output_type'] = 'display_data';\n",
              "          await google.colab.output.renderOutput(dataTable, element);\n",
              "          const docLink = document.createElement('div');\n",
              "          docLink.innerHTML = docLinkHtml;\n",
              "          element.appendChild(docLink);\n",
              "        }\n",
              "      </script>\n",
              "    </div>\n",
              "  </div>\n",
              "  "
            ]
          },
          "metadata": {},
          "execution_count": 121
        }
      ]
    },
    {
      "cell_type": "code",
      "source": [],
      "metadata": {
        "id": "qS4rzX9V9mx1"
      },
      "execution_count": null,
      "outputs": []
    }
  ],
  "metadata": {
    "kernelspec": {
      "display_name": "base",
      "language": "python",
      "name": "python3"
    },
    "language_info": {
      "codemirror_mode": {
        "name": "ipython",
        "version": 3
      },
      "file_extension": ".py",
      "mimetype": "text/x-python",
      "name": "python",
      "nbconvert_exporter": "python",
      "pygments_lexer": "ipython3",
      "version": "3.9.12"
    },
    "orig_nbformat": 4,
    "colab": {
      "provenance": []
    }
  },
  "nbformat": 4,
  "nbformat_minor": 0
}